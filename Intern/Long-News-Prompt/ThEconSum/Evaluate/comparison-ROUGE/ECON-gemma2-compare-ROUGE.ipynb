{
 "cells": [
  {
   "cell_type": "markdown",
   "metadata": {},
   "source": [
    "### Ollama"
   ]
  },
  {
   "cell_type": "code",
   "execution_count": 2,
   "metadata": {},
   "outputs": [
    {
     "name": "stdout",
     "output_type": "stream",
     "text": [
      "NAME                   \tID          \tSIZE  \tMODIFIED     \n",
      "nomic-embed-text:latest\t0a109f422b47\t274 MB\t11 days ago \t\n",
      "llama3:8b              \t365c0bd3c000\t4.7 GB\t2 weeks ago \t\n",
      "llama3.1:8b            \t75382d0899df\t4.7 GB\t3 weeks ago \t\n",
      "llama3:text            \t870a5d02cfaf\t4.7 GB\t3 weeks ago \t\n",
      "qwen2:7b               \te0d4e1163c58\t4.4 GB\t3 weeks ago \t\n",
      "gemma2:9b              \tff02c3702f32\t5.4 GB\t3 weeks ago \t\n",
      "mistral:latest         \t2ae6f6dd7a3d\t4.1 GB\t2 months ago\t\n"
     ]
    }
   ],
   "source": [
    "!ollama list"
   ]
  },
  {
   "cell_type": "code",
   "execution_count": 3,
   "metadata": {},
   "outputs": [],
   "source": [
    "from langchain_community.chat_models import ChatOllama\n",
    "from langchain.prompts import ChatPromptTemplate, SystemMessagePromptTemplate, HumanMessagePromptTemplate"
   ]
  },
  {
   "cell_type": "code",
   "execution_count": 4,
   "metadata": {},
   "outputs": [],
   "source": [
    "local_model = \"gemma2:9b\"\n",
    "llm = ChatOllama(model=local_model)"
   ]
  },
  {
   "cell_type": "code",
   "execution_count": 5,
   "metadata": {},
   "outputs": [
    {
     "data": {
      "text/plain": [
       "ChatOllama(model='gemma2:9b')"
      ]
     },
     "execution_count": 5,
     "metadata": {},
     "output_type": "execute_result"
    }
   ],
   "source": [
    "llm"
   ]
  },
  {
   "cell_type": "code",
   "execution_count": 6,
   "metadata": {},
   "outputs": [
    {
     "data": {
      "text/plain": [
       "(3189, 5)"
      ]
     },
     "execution_count": 6,
     "metadata": {},
     "output_type": "execute_result"
    }
   ],
   "source": [
    "import pandas as pd\n",
    "\n",
    "df = pd.read_json(\n",
    "    r'F:\\AI\\Super AI SS4\\Level 3 - INTERN\\Dataset\\THEconSum\\AIFORTHAI-TextSummarizationCorpus\\Text-Summarization-Corpus.json')\n",
    "\n",
    "df.shape"
   ]
  },
  {
   "cell_type": "code",
   "execution_count": 6,
   "metadata": {},
   "outputs": [],
   "source": [
    "def summarize_abstractive(text, llm):\n",
    "    prompt = f\"\"\"Write a summary in a narrative style that presents the content in a continuous, flowing manner, focusing on a chronological order of events. The narrative should be smooth without abrupt breaks, covering all relevant points comprehensively, but without delving into deep, specific details. The content should provide a clear overview of the entire event or story to give readers a broad understanding.\n",
    "    Please read the following news article carefully and follow the instructions below\n",
    "\n",
    "    {text}\n",
    "\n",
    "    Instructions:\n",
    "    - Write each paragraph based on the sequence of events or background, focusing on a continuous storytelling approach.\n",
    "    - Use \\t at the beginning of each paragraph to create indentation.\n",
    "    - DO NOT leave blank lines between paragraphs. All paragraphs must be continuous with no blank lines.\n",
    "    - There is NO need to give titles for each paragraph. Focus on telling the story while covering key points.\n",
    "\n",
    "    IMPORTANT: All your answers must be in Thai. Ensure that the Thai translation accurately conveys the meaning and context of the original content.\"\"\"\n",
    "\n",
    "    system_template = f\"\"\"You are an expert summarizer with the ability to distill complex information into concise and accurate summaries. Your summaries are clear, coherent, and excellent at identifying key points while preserving the essence of the original text.\"\"\"\n",
    "\n",
    "    system_message_prompt = SystemMessagePromptTemplate.from_template(system_template)\n",
    "    human_message_prompt = HumanMessagePromptTemplate.from_template(prompt)\n",
    "\n",
    "    chat_prompt = ChatPromptTemplate.from_messages([system_message_prompt, human_message_prompt])\n",
    "    messages = chat_prompt.format_messages(text=text)\n",
    "\n",
    "    response = llm(messages)\n",
    "    return response.content"
   ]
  },
  {
   "cell_type": "code",
   "execution_count": 7,
   "metadata": {},
   "outputs": [],
   "source": [
    "def summarize_extractive(text, llm):\n",
    "    prompt = f\"\"\"Create a summary by selecting and combining key sentences directly from the original text. The summary should present the content in a chronological order, covering all relevant points comprehensively, but without adding any new words or phrases not present in the original text. The extracted sentences should provide a clear overview of the entire event or story to give readers a broad understanding.\n",
    "    Please read the following news article carefully and follow the instructions below:\n",
    "\n",
    "    {text}\n",
    "\n",
    "    Instructions:\n",
    "    - Use \\t at the beginning of each paragraph to create indentation.\n",
    "    - DO NOT leave blank lines between paragraphs. All paragraphs must be continuous with no blank lines.\n",
    "    - DO NOT add any new words or phrases. Use ONLY the exact text from the original article.\n",
    "    - There is NO need to give titles for each paragraph. Focus on presenting the key information while maintaining the original wording.\n",
    "    - Please DO NOT generate anything else, generate ONLY the summary.\n",
    "\n",
    "    IMPORTANT: Ensure that you only extract and combine existing sentences from the Thai text. Do not translate or rephrase any content.\"\"\"\n",
    "\n",
    "    system_template = f\"\"\"You are an expert in extractive summarization with the ability to identify and select the most important sentences from complex texts. Your summaries are coherent compilations of original sentences that accurately represent the key points and overall narrative of the source material.\"\"\"\n",
    "\n",
    "    system_message_prompt = SystemMessagePromptTemplate.from_template(system_template)\n",
    "    human_message_prompt = HumanMessagePromptTemplate.from_template(prompt)\n",
    "\n",
    "    chat_prompt = ChatPromptTemplate.from_messages([system_message_prompt, human_message_prompt])\n",
    "    messages = chat_prompt.format_messages(text=text)\n",
    "\n",
    "    response = llm(messages)\n",
    "    return response.content"
   ]
  },
  {
   "cell_type": "code",
   "execution_count": 8,
   "metadata": {},
   "outputs": [],
   "source": [
    "df_sum = df[['content', 'extractive', 'abstractive']].sample(n=10, random_state=1).reset_index(drop=True)\n",
    "\n",
    "df_sum.to_csv(\n",
    "    r'F:\\AI\\Super AI SS4\\Level 3 - INTERN\\Dataset\\ThEconSum\\AIFORTHAI-TextSummarizationCorpus\\ThEconSum-random-10-10.csv', index=False)"
   ]
  },
  {
   "cell_type": "code",
   "execution_count": 9,
   "metadata": {},
   "outputs": [
    {
     "data": {
      "text/html": [
       "<div>\n",
       "<style scoped>\n",
       "    .dataframe tbody tr th:only-of-type {\n",
       "        vertical-align: middle;\n",
       "    }\n",
       "\n",
       "    .dataframe tbody tr th {\n",
       "        vertical-align: top;\n",
       "    }\n",
       "\n",
       "    .dataframe thead th {\n",
       "        text-align: right;\n",
       "    }\n",
       "</style>\n",
       "<table border=\"1\" class=\"dataframe\">\n",
       "  <thead>\n",
       "    <tr style=\"text-align: right;\">\n",
       "      <th></th>\n",
       "      <th>content</th>\n",
       "      <th>extractive</th>\n",
       "      <th>abstractive</th>\n",
       "    </tr>\n",
       "  </thead>\n",
       "  <tbody>\n",
       "    <tr>\n",
       "      <th>0</th>\n",
       "      <td>กรุงเทพธุรกิจ หุ้นกลุ่มปตท.พลิกกับมา...</td>\n",
       "      <td>\\t หุ้นกลุ่มปตท.พลิกกลับมานำ ตลาดหุ้นไทยฟื้น...</td>\n",
       "      <td>\\t หุ้นกลุ่มปตท.พลิกกลับมานำ ตลาดหุ้นไทยฟื้นตั...</td>\n",
       "    </tr>\n",
       "    <tr>\n",
       "      <th>1</th>\n",
       "      <td>โครงการเมกะเวิลด์ รถไฟความเร็วสูงเชื...</td>\n",
       "      <td>\\t โครงการเมกะเวิลด์ รถไฟความเร็วสูงเชื่อม 3 ส...</td>\n",
       "      <td>\\t โครงการเมกะเวิลด์ รถไฟความเร็วสูงเชื่อม 3 ส...</td>\n",
       "    </tr>\n",
       "    <tr>\n",
       "      <th>2</th>\n",
       "      <td>กรุงเทพธุรกิจ สมคิด เรียกประชุมอธิกา...</td>\n",
       "      <td>\\tวันที่ 28 ต.ค. นายสมคิด จาตุศรีพิทักษ์ รอง น...</td>\n",
       "      <td>วันที่ 28 ต.ค. นายสมคิด จาตุศรีพิทักษ์ รอง นาย...</td>\n",
       "    </tr>\n",
       "    <tr>\n",
       "      <th>3</th>\n",
       "      <td>การต่อสู้เรียกร้องให้ ปตท.คืนทรัพย์ส...</td>\n",
       "      <td>\\tการต่อสู้เรียกร้องให้ ปตท.คืนทรัพย์สิน...</td>\n",
       "      <td>\\tการต่อสู้เรียกร้องของภาคประชาชนโดยมูลน...</td>\n",
       "    </tr>\n",
       "    <tr>\n",
       "      <th>4</th>\n",
       "      <td>ศิริวรรณ ศรีเอี่ยมจันทร์          ใน...</td>\n",
       "      <td>\\tช่วง 2-3 ปีที่ผ่านมา ราคาน้ำมันดิบในตลาดโลก...</td>\n",
       "      <td>\\tช่วง 2-3 ปีที่ผ่านมา ราคาน้ำมันดิบในตลาดโลก...</td>\n",
       "    </tr>\n",
       "    <tr>\n",
       "      <th>5</th>\n",
       "      <td>* ดัชนีตลาดหลักทรัพย์ไทยวานนี้ (9 ต....</td>\n",
       "      <td>\\tดัชนีตลาดหลักทรัพย์ แกว่งทั้งวัน รอผลเจรจากา...</td>\n",
       "      <td>\\tดัชนีตลาดหลักทรัพย์ 10 ต.ค. แกว่งทั้งวัน ปิด...</td>\n",
       "    </tr>\n",
       "    <tr>\n",
       "      <th>6</th>\n",
       "      <td>บิ๊ก OCEAN เดินหน้าซื้อขายปาล์มน้ำมั...</td>\n",
       "      <td>นางชัชชญา ไตรตระกูลชัย กรรมการผู้จัด...</td>\n",
       "      <td>นางชัชชญา ไตรตระกูลชัย กรรมการผู้จัด...</td>\n",
       "    </tr>\n",
       "    <tr>\n",
       "      <th>7</th>\n",
       "      <td>เอราวัณ          3 ปีแห่งการครองอำนา...</td>\n",
       "      <td>\\t3 ปีแห่งการครองอำนาจของคณะรักษาความสงบแห่งชา...</td>\n",
       "      <td>\\tตลอด 3 ปี ของคณะรักษาความสงบแห่งชาติ (คสช.) ...</td>\n",
       "    </tr>\n",
       "    <tr>\n",
       "      <th>8</th>\n",
       "      <td>สุดใจ ชาญชาตรีรัตน์          ในอดีต ...</td>\n",
       "      <td>\\tทิศทางราคาน้ำมันขาลงช่วง 3 ปีที่ผ่านมา ด้ว...</td>\n",
       "      <td>\\tทิศทางราคาน้ำมันขาลงช่วง 3 ปีที่ผ่านมา ด้วยป...</td>\n",
       "    </tr>\n",
       "    <tr>\n",
       "      <th>9</th>\n",
       "      <td>“ปตท.” ออกโรงเอง! ลุยเจรจาผู้ผลิตก๊า...</td>\n",
       "      <td>นายอธิคม เติบศิริ ประธานเจ้าหน้าที่ปฏิบัติการก...</td>\n",
       "      <td>นายอธิคม เติบศิริ ประธานเจ้าหน้าที่ปฏิบัติการก...</td>\n",
       "    </tr>\n",
       "  </tbody>\n",
       "</table>\n",
       "</div>"
      ],
      "text/plain": [
       "                                             content  \\\n",
       "0            กรุงเทพธุรกิจ หุ้นกลุ่มปตท.พลิกกับมา...   \n",
       "1            โครงการเมกะเวิลด์ รถไฟความเร็วสูงเชื...   \n",
       "2            กรุงเทพธุรกิจ สมคิด เรียกประชุมอธิกา...   \n",
       "3            การต่อสู้เรียกร้องให้ ปตท.คืนทรัพย์ส...   \n",
       "4            ศิริวรรณ ศรีเอี่ยมจันทร์          ใน...   \n",
       "5            * ดัชนีตลาดหลักทรัพย์ไทยวานนี้ (9 ต....   \n",
       "6            บิ๊ก OCEAN เดินหน้าซื้อขายปาล์มน้ำมั...   \n",
       "7            เอราวัณ          3 ปีแห่งการครองอำนา...   \n",
       "8            สุดใจ ชาญชาตรีรัตน์          ในอดีต ...   \n",
       "9            “ปตท.” ออกโรงเอง! ลุยเจรจาผู้ผลิตก๊า...   \n",
       "\n",
       "                                          extractive  \\\n",
       "0    \\t หุ้นกลุ่มปตท.พลิกกลับมานำ ตลาดหุ้นไทยฟื้น...   \n",
       "1  \\t โครงการเมกะเวิลด์ รถไฟความเร็วสูงเชื่อม 3 ส...   \n",
       "2  \\tวันที่ 28 ต.ค. นายสมคิด จาตุศรีพิทักษ์ รอง น...   \n",
       "3        \\tการต่อสู้เรียกร้องให้ ปตท.คืนทรัพย์สิน...   \n",
       "4   \\tช่วง 2-3 ปีที่ผ่านมา ราคาน้ำมันดิบในตลาดโลก...   \n",
       "5  \\tดัชนีตลาดหลักทรัพย์ แกว่งทั้งวัน รอผลเจรจากา...   \n",
       "6            นางชัชชญา ไตรตระกูลชัย กรรมการผู้จัด...   \n",
       "7  \\t3 ปีแห่งการครองอำนาจของคณะรักษาความสงบแห่งชา...   \n",
       "8    \\tทิศทางราคาน้ำมันขาลงช่วง 3 ปีที่ผ่านมา ด้ว...   \n",
       "9  นายอธิคม เติบศิริ ประธานเจ้าหน้าที่ปฏิบัติการก...   \n",
       "\n",
       "                                         abstractive  \n",
       "0  \\t หุ้นกลุ่มปตท.พลิกกลับมานำ ตลาดหุ้นไทยฟื้นตั...  \n",
       "1  \\t โครงการเมกะเวิลด์ รถไฟความเร็วสูงเชื่อม 3 ส...  \n",
       "2  วันที่ 28 ต.ค. นายสมคิด จาตุศรีพิทักษ์ รอง นาย...  \n",
       "3        \\tการต่อสู้เรียกร้องของภาคประชาชนโดยมูลน...  \n",
       "4   \\tช่วง 2-3 ปีที่ผ่านมา ราคาน้ำมันดิบในตลาดโลก...  \n",
       "5  \\tดัชนีตลาดหลักทรัพย์ 10 ต.ค. แกว่งทั้งวัน ปิด...  \n",
       "6            นางชัชชญา ไตรตระกูลชัย กรรมการผู้จัด...  \n",
       "7  \\tตลอด 3 ปี ของคณะรักษาความสงบแห่งชาติ (คสช.) ...  \n",
       "8  \\tทิศทางราคาน้ำมันขาลงช่วง 3 ปีที่ผ่านมา ด้วยป...  \n",
       "9  นายอธิคม เติบศิริ ประธานเจ้าหน้าที่ปฏิบัติการก...  "
      ]
     },
     "execution_count": 9,
     "metadata": {},
     "output_type": "execute_result"
    }
   ],
   "source": [
    "df_sum"
   ]
  },
  {
   "cell_type": "code",
   "execution_count": 10,
   "metadata": {},
   "outputs": [
    {
     "name": "stdout",
     "output_type": "stream",
     "text": [
      "          กรุงเทพธุรกิจ หุ้นกลุ่มปตท.พลิกกับมานำ ตลาดหุ้นไทยฟื้นตัว หนุนจากราคาน้ำมันดิบพุ่งขึ้น 10% หลังบริษัทน้ำมันในสหรัฐยื่นขอล้มละลาย โบรกประเมิน ปตท.สผ. อยู่รอดหลังต้นทุนเงินสดยังต่ำกว่าราคาปัจจุบัน ขณะที่หุ้น โออาร์ เดินหน้าขายไอพีโอ 2,700 ล้านหุ้น          ความเคลื่อนไหวหุ้นในกลุ่มปตท. วานนี้ (2 เม.ย.)  ได้แก่ บมจ.ปตท(PTT) บมจ.ปตท.สำรวจและผลิตปิโตรเลียม(PTTEP) บมจ.ไทยออยล์(TOP) และ บมจ.พีทีที โกลบอล เคมิคอล(PTTGC) ต่างปรับตัวขึ้น ได้กว่า 10% และเป็นกลุ่มที่ช่วยหนุนให้ดัชนีปรับตัวขึ้น ได้ราว 17 จุด จากทั้งหมด 32 จุด มาปิดที่ 1,138.27 จุด เพิ่มขึ้น 2.96% ด้วยมูลค่าการซื้อขาย 6.9 หมื่นล้านบาท          การปรับตัวขึ้นของหุ้นในกลุ่มปตท. ได้แรงหนุนสำคัญจากราคาน้ำมันดิบ (อิง WTI) ปรับตัวขึ้น 10% ตั้งแต่ช่วงเช้า กลับมายืนเหนือระดับ 22 ดอลลาร์ ต่อบาร์เรล โดยปัจจัยที่เกี่ยวข้องล่าสุด คือ บริษัท Whiting Petroleum ซึ่งเป็นหนึ่งในบริษัทเชลออยล์ของสหรัฐได้ประกาศล้มละลาย เนื่องจากราคาขายไม่คุ้มค่าในการผลิต และมีแนวโน้มที่อีกหลายบริษัทจะเผชิญสภาวะเดียวกัน เป็นผลให้ ประธานาธิบดี โดนัลด์ ทรัมป์ ของสหรัฐ เร่งหารือกับบริษัทน้ำมันรายอื่นๆ เพื่อเยียวยาและป้องกันการเกิดผลกระทบอย่างต่อเนื่อง          โดยภาพรวมแล้ว บริษัทผู้ผลิตน้ำมันอย่าง PTTEP น่าจะเป็นบริษัทที่ได้รับผลกระทบโดยตรงมากที่สุดจากการปรับขึ้นลงของราคาน้ำมันดิบ ซึ่ง บล.หยวนต้า (ประเทศไทย) มองว่า แม้ราคาน้ำมันยังมีแนวโน้มอ่อนแอจากการปิดเมืองในหลายประเทศทั่วโลก และอุปทานที่กำลังเข้าสู่ตลาดมากขึ้น แต่คาดหวังโอกาสการเห็นจำนวนแท่นขุดเจาะน้ำมันของสหรัฐจะ ปรับตัวลดลงในระยะถัดไป ซึ่งจะช่วยลดแรงกดดันในตลาดน้ำมันได้บ้าง          ภายใต้สถานการณ์ที่ยากลำบาก เชื่อว่ากลยุทธ์เน้นการลงทุนในพื้นที่ยุทธศาสตร์ที่มีความชำนาญ ของ PTTEP จะช่วยลดความเสี่ยงด้านการดำเนินงาน ให้ต่ำลง          ทั้งนี้ อ้างอิงข้อมูลปี 2562 บริษัทมีต้นทุนผลิต ต่อหน่วยที่ 31.7 ดอลลาร์ต่อบาร์เรล แบ่งเป็นค่าเสื่อมราคา และค่าตัดจำหน่าย 15.8 ดอลลาร์ต่อบาร์เรล และต้นทุนเงินสด 15.9 ดอลลาร์ต่อบาร์เรล โดยเราคาดว่าบริษัทจะสามารถลดต้นทุนเงินสดลงได้อีก 10-15% หรือราว 1.6-2.4 ดอลลาร์ต่อบาร์เรล จากทั้งค่าภาคหลวง ที่ลดลงตามราคาน้ำมัน และค่าใช้จ่ายบริหารต่างๆ          ด้วยราคาหุ้นปรับตัวลง 36% ภายใน 1 เดือน จนปัจจุบัน ซื้อขายบน P/BV 0.8 เท่า ต่ำใกล้เคียงช่วงวิกฤติเชลล์ออยล์ ปี 2557 - 2560 สะท้อนประเด็นลบไปมากแล้ว          ขณะที่โครงสร้างเงินทุน PTTEP มั่นคงด้วยสัดส่วนหนี้สินต่อทุน (D/E) 0.9 เท่า และเงินสด 9.1 หมื่นล้านบาท และด้วยประสบการณ์ผ่านวิกฤติต่างๆ มาหลายครั้ง เชื่อว่าบริษัทจะสามารถบริหารจัดการต้นทุน-ค่าใช้จ่ายในช่วงที่ราคาน้ำมันตกต่ำได้ ดังนั้น จึงปรับคำแนะนำขึ้นจาก ขาย เป็น เก็งกำไร ด้วยราคาเหมาะสม 70 บาท          นายกวีวิทย์ ถวิลวิทยานนท์ นักวิเคราะห์ บล.เคจีไอ มองว่า สหรัฐจะพยายามโน้มน้าวให้รัสเซียและซาอุดีอาระเบียกลับมาเจรจาเพื่อยุติสงครามราคาน้ำมัน แต่อย่างไรก็ตาม ซาอุดีอาระเบียน่าจะเดินหน้าทำสงครามราคาน้ำมันต่อไปอีกหลายเดือน หลังจากที่กำหนดแผนเพิ่มการผลิตน้ำมันดิบของประเทศเป็น 12.3 ล้านบาร์เรลต่อวัน ในเดือนถัดๆ ไป จากเดิมที่ 9.7 ล้านบาร์เรลต่อวัน          พร้อมกันนี้ PTT มีปัจจัยหนุนเฉพาะตัว หลัง บมจ.ปตท.น้ำมันและการค้าปลีก (OR) ซึ่งเป็นบริษัทย่อย ที่ ปตท. ถือหุ้นทั้งหมด ได้ยื่นคำขออนุญาตเพื่อเสนอขาย หุ้นสามัญเพิ่มทุนต่อประชาชนทั่วไปเป็นครั้งแรก (IPO) ซึ่งรวมไปถึงการยื่นแบบแสดงรายการข้อมูลการเสนอขายหลักทรัพย์และร่างหนังสือชี้ชวน ต่อสำนักงาน คณะกรรมการกำกับหลักทรัพย์และตลาดหลักทรัพย์ (ก.ล.ต.)          ทั้งนี้การเสนอขาย IPO ของ OR จะขายหุ้นสามัญเพิ่มทุนเป็นจำนวนไม่เกิน 2,700 ล้านหุ้น (ไม่รวมจำนวนหุ้นส่วนเกินสำหรับการให้สิทธิซื้อหุ้นส่วนเกิน) โดย OR จะจัดสรรหุ้นสามัญเพิ่มทุนเป็นจำนวนไม่เกิน 300 ล้านหุ้น เพื่อเสนอขายให้แก่ผู้ถือหุ้นเดิมของ ปตท. เฉพาะกลุ่มที่มีสิทธิได้รับ การจัดสรรหุ้นสามัญเพิ่มทุนตามสัดส่วนการถือหุ้นใน ปตท. เพื่อรักษาสิทธิ (Pre-emptive Rights)          หากมีความต้องการซื้อมากกว่าจำนวนหุ้นที่เสนอขาย อาจมีการออกหุ้นสามัญเพิ่มทุนเพิ่มเติมในจำนวนไม่เกิน 300 ล้านหุ้น ให้แก่ผู้จัดหาหุ้นส่วนเกิน (Over-Allotment Agent) เพื่อการส่งคืนหุ้นที่ยืมจาก ปตท. ในการจัดสรร หุ้นส่วนเกิน (หากมี) ซึ่งภายหลังการเสนอขายหุ้นสามัญ เพิ่มทุนของ OR นั้น ปตท.จะยังคงเป็นผู้ถือหุ้นรายใหญ่ ของ OR โดยจะถือหุ้นไม่น้อยกว่า 75%\n"
     ]
    }
   ],
   "source": [
    "text = df_sum.iloc[0]['content']\n",
    "print(text)"
   ]
  },
  {
   "cell_type": "code",
   "execution_count": null,
   "metadata": {},
   "outputs": [],
   "source": [
    "summarize_abstractive(text, llm)"
   ]
  },
  {
   "cell_type": "code",
   "execution_count": 18,
   "metadata": {},
   "outputs": [
    {
     "data": {
      "text/plain": [
       "(20, 6)"
      ]
     },
     "execution_count": 18,
     "metadata": {},
     "output_type": "execute_result"
    }
   ],
   "source": [
    "df_sum = pd.read_csv(\n",
    "    r'F:\\AI\\Super AI SS4\\Level 3 - INTERN\\Jupyter Notebook\\Evaluate\\gemma2-ThEconSum-20.csv')\n",
    "\n",
    "df_sum.shape"
   ]
  },
  {
   "cell_type": "code",
   "execution_count": 11,
   "metadata": {},
   "outputs": [],
   "source": [
    "from tqdm import tqdm"
   ]
  },
  {
   "cell_type": "code",
   "execution_count": 12,
   "metadata": {},
   "outputs": [
    {
     "name": "stderr",
     "output_type": "stream",
     "text": [
      "  0%|          | 0/10 [00:00<?, ?it/s]C:\\Users\\Nitro 5\\AppData\\Local\\Packages\\PythonSoftwareFoundation.Python.3.11_qbz5n2kfra8p0\\LocalCache\\local-packages\\Python311\\site-packages\\langchain_core\\_api\\deprecation.py:139: LangChainDeprecationWarning: The method `BaseChatModel.__call__` was deprecated in langchain-core 0.1.7 and will be removed in 0.3.0. Use invoke instead.\n",
      "  warn_deprecated(\n",
      "100%|██████████| 10/10 [43:05<00:00, 258.59s/it]\n"
     ]
    }
   ],
   "source": [
    "tqdm.pandas()\n",
    "\n",
    "df_sum['sum_abstractive'] = df_sum['content'].progress_apply(\n",
    "    lambda x: summarize_abstractive(x, llm)\n",
    ")"
   ]
  },
  {
   "cell_type": "code",
   "execution_count": 20,
   "metadata": {},
   "outputs": [
    {
     "name": "stderr",
     "output_type": "stream",
     "text": [
      "100%|██████████| 20/20 [1:47:05<00:00, 321.28s/it]\n"
     ]
    }
   ],
   "source": [
    "tqdm.pandas()\n",
    "\n",
    "df_sum['sum_extractive'] = df_sum['content'].progress_apply(\n",
    "    lambda x: summarize_extractive(x, llm)\n",
    ")"
   ]
  },
  {
   "cell_type": "code",
   "execution_count": 21,
   "metadata": {},
   "outputs": [
    {
     "data": {
      "text/plain": [
       "(20, 7)"
      ]
     },
     "execution_count": 21,
     "metadata": {},
     "output_type": "execute_result"
    }
   ],
   "source": [
    "df_sum.to_csv(\n",
    "    r'F:\\AI\\Super AI SS4\\Level 3 - INTERN\\Jupyter Notebook\\Evaluate\\gemma2-ThEconSum-20.csv')\n",
    "df_sum.shape"
   ]
  },
  {
   "cell_type": "markdown",
   "metadata": {},
   "source": [
    "### combine-dataset"
   ]
  },
  {
   "cell_type": "code",
   "execution_count": 28,
   "metadata": {},
   "outputs": [
    {
     "data": {
      "text/plain": [
       "(20, 5)"
      ]
     },
     "execution_count": 28,
     "metadata": {},
     "output_type": "execute_result"
    }
   ],
   "source": [
    "df_sum = pd.read_csv(\n",
    "    r'F:\\AI\\Super AI SS4\\Level 3 - INTERN\\Jupyter Notebook\\Evaluate\\gemma2-ThEconSum-20.csv')\n",
    "\n",
    "df_sum.shape"
   ]
  },
  {
   "cell_type": "code",
   "execution_count": 29,
   "metadata": {},
   "outputs": [
    {
     "data": {
      "text/plain": [
       "Index(['content', 'abstractive', 'sum_abstractive'], dtype='object')"
      ]
     },
     "execution_count": 29,
     "metadata": {},
     "output_type": "execute_result"
    }
   ],
   "source": [
    "df_copy = df_sum[['content', 'abstractive', 'sum_abstractive']].copy()\n",
    "df_copy.columns"
   ]
  },
  {
   "cell_type": "code",
   "execution_count": 16,
   "metadata": {},
   "outputs": [],
   "source": [
    "from bert_score import score\n",
    "from pythainlp.tokenize import word_tokenize\n",
    "from rouge import Rouge\n",
    "from tqdm import tqdm\n",
    "\n",
    "def calculate_bert_score(candidate, reference):\n",
    "    P, R, F1 = score([candidate], [reference], lang='th', verbose=False)\n",
    "    bert_score = {\n",
    "        'precision': float(P[0]),\n",
    "        'recall': float(R[0]),\n",
    "        'f1': float(F1[0])\n",
    "    }\n",
    "    return bert_score"
   ]
  },
  {
   "cell_type": "markdown",
   "metadata": {},
   "source": [
    "### BERT Score"
   ]
  },
  {
   "cell_type": "code",
   "execution_count": 57,
   "metadata": {},
   "outputs": [
    {
     "name": "stderr",
     "output_type": "stream",
     "text": [
      "BERT Scores ...: 100%|██████████| 20/20 [01:43<00:00,  5.19s/it]\n"
     ]
    }
   ],
   "source": [
    "bert_precisions = []\n",
    "bert_recalls = []\n",
    "bert_f1_scores = []\n",
    "\n",
    "for index, row in tqdm(df_copy.iterrows(), total=df_copy.shape[0], desc=\"BERT Scores ...\"):\n",
    "    candidate = row['sum_extractive']\n",
    "    reference = row['extractive']\n",
    "\n",
    "    bert_score = calculate_bert_score(candidate, reference)\n",
    "\n",
    "    bert_precisions.append(bert_score['precision'])\n",
    "    bert_recalls.append(bert_score['recall'])\n",
    "    bert_f1_scores.append(bert_score['f1'])\n",
    "\n",
    "df_copy['BERT_Precision'] = bert_precisions\n",
    "df_copy['BERT_Recall'] = bert_recalls\n",
    "df_copy['BERT_F1'] = bert_f1_scores"
   ]
  },
  {
   "cell_type": "markdown",
   "metadata": {},
   "source": [
    "### ROUGE Score"
   ]
  },
  {
   "cell_type": "code",
   "execution_count": 30,
   "metadata": {},
   "outputs": [],
   "source": [
    "def calculate_rouge_scores_for_row(candidate, reference, engine=None):\n",
    "    if engine:\n",
    "        hypothesis_tokenized = ' '.join(word_tokenize(candidate, engine=engine))\n",
    "        reference_tokenized = ' '.join(word_tokenize(reference, engine=engine))\n",
    "    else:  # ใช้ default\n",
    "        hypothesis_tokenized = ' '.join(word_tokenize(candidate))\n",
    "        reference_tokenized = ' '.join(word_tokenize(reference))\n",
    "\n",
    "    rouge = Rouge()\n",
    "    scores = rouge.get_scores(hypothesis_tokenized, reference_tokenized)[0]\n",
    "\n",
    "    rouge1_f1 = scores['rouge-1']['f']\n",
    "    rouge2_f1 = scores['rouge-2']['f']\n",
    "    rougel_f1 = scores['rouge-l']['f']\n",
    "\n",
    "    avg_rouge_score = (rouge1_f1 + rouge2_f1 + rougel_f1) / 3\n",
    "\n",
    "    return rouge1_f1, rouge2_f1, rougel_f1, avg_rouge_score\n",
    "\n",
    "def calculate_update_dataframe_ab(df, engine=None):\n",
    "    rouge1_scores = []\n",
    "    rouge2_scores = []\n",
    "    rougel_scores = []\n",
    "    rouge_avg_scores = []\n",
    "\n",
    "    engine_label = engine if engine else 'default'\n",
    "\n",
    "    for index, row in tqdm(df.iterrows(), total=df.shape[0], desc=f\"Calculating ROUGE Scores with {engine_label}\"):\n",
    "        candidate = row['sum_abstractive']\n",
    "        reference = row['abstractive']\n",
    "\n",
    "        rouge1_f1, rouge2_f1, rougel_f1, avg_rouge_score = calculate_rouge_scores_for_row(candidate, reference, engine=engine)\n",
    "\n",
    "        rouge1_scores.append(rouge1_f1)\n",
    "        rouge2_scores.append(rouge2_f1)\n",
    "        rougel_scores.append(rougel_f1)\n",
    "        rouge_avg_scores.append(avg_rouge_score)\n",
    "\n",
    "    df[f'ROUGE-1_{engine_label}'] = rouge1_scores\n",
    "    df[f'ROUGE-2_{engine_label}'] = rouge2_scores\n",
    "    df[f'ROUGE-L_{engine_label}'] = rougel_scores\n",
    "    df[f'ROUGE_Score_{engine_label}'] = rouge_avg_scores\n",
    "\n",
    "    return df\n",
    "\n",
    "def calculate_update_dataframe_ex(df, engine=None):\n",
    "    rouge1_scores = []\n",
    "    rouge2_scores = []\n",
    "    rougel_scores = []\n",
    "    rouge_avg_scores = []\n",
    "\n",
    "    engine_label = engine if engine else 'default'\n",
    "\n",
    "    for index, row in tqdm(df.iterrows(), total=df.shape[0], desc=f\"Calculating ROUGE Scores with {engine_label}\"):\n",
    "        candidate = row['sum_extractive']\n",
    "        reference = row['extractive']\n",
    "\n",
    "        rouge1_f1, rouge2_f1, rougel_f1, avg_rouge_score = calculate_rouge_scores_for_row(candidate, reference, engine=engine)\n",
    "\n",
    "        rouge1_scores.append(rouge1_f1)\n",
    "        rouge2_scores.append(rouge2_f1)\n",
    "        rougel_scores.append(rougel_f1)\n",
    "        rouge_avg_scores.append(avg_rouge_score)\n",
    "\n",
    "    df[f'ROUGE-1_{engine_label}'] = rouge1_scores\n",
    "    df[f'ROUGE-2_{engine_label}'] = rouge2_scores\n",
    "    df[f'ROUGE-L_{engine_label}'] = rougel_scores\n",
    "    df[f'ROUGE_Score_{engine_label}'] = rouge_avg_scores\n",
    "\n",
    "    return df"
   ]
  },
  {
   "cell_type": "markdown",
   "metadata": {},
   "source": [
    "### Abstractive"
   ]
  },
  {
   "cell_type": "code",
   "execution_count": 21,
   "metadata": {},
   "outputs": [
    {
     "name": "stderr",
     "output_type": "stream",
     "text": [
      "Calculating ROUGE Scores with attacut: 100%|██████████| 20/20 [00:01<00:00, 11.19it/s]\n",
      "Calculating ROUGE Scores with default: 100%|██████████| 20/20 [00:00<00:00, 23.42it/s]\n"
     ]
    }
   ],
   "source": [
    "df_copy_attacut = df_copy.copy()\n",
    "df_copy_default = df_copy.copy()\n",
    "\n",
    "df_copy_attacut = calculate_update_dataframe_ab(df_copy_attacut, engine='attacut')\n",
    "df_copy_default = calculate_update_dataframe_ab(df_copy_default)  # ใช้ default\n",
    "\n",
    "avg_attacut = df_copy_attacut[[f'ROUGE-1_attacut', f'ROUGE-2_attacut', f'ROUGE-L_attacut', f'ROUGE_Score_attacut']].mean()\n",
    "avg_default = df_copy_default[[f'ROUGE-1_default', f'ROUGE-2_default', f'ROUGE-L_default', f'ROUGE_Score_default']].mean()\n",
    "\n",
    "comparison_df = pd.DataFrame({\n",
    "    'Metric': ['ROUGE-1', 'ROUGE-2', 'ROUGE-L', 'ROUGE_Score'],\n",
    "    'Average_Attacut': avg_attacut.values,\n",
    "    'Average_Default': avg_default.values\n",
    "})"
   ]
  },
  {
   "cell_type": "code",
   "execution_count": 23,
   "metadata": {},
   "outputs": [
    {
     "data": {
      "text/html": [
       "<div>\n",
       "<style scoped>\n",
       "    .dataframe tbody tr th:only-of-type {\n",
       "        vertical-align: middle;\n",
       "    }\n",
       "\n",
       "    .dataframe tbody tr th {\n",
       "        vertical-align: top;\n",
       "    }\n",
       "\n",
       "    .dataframe thead th {\n",
       "        text-align: right;\n",
       "    }\n",
       "</style>\n",
       "<table border=\"1\" class=\"dataframe\">\n",
       "  <thead>\n",
       "    <tr style=\"text-align: right;\">\n",
       "      <th></th>\n",
       "      <th>Metric</th>\n",
       "      <th>Average_Attacut</th>\n",
       "      <th>Average_Default</th>\n",
       "    </tr>\n",
       "  </thead>\n",
       "  <tbody>\n",
       "    <tr>\n",
       "      <th>0</th>\n",
       "      <td>ROUGE-1</td>\n",
       "      <td>0.642744</td>\n",
       "      <td>0.600885</td>\n",
       "    </tr>\n",
       "    <tr>\n",
       "      <th>1</th>\n",
       "      <td>ROUGE-2</td>\n",
       "      <td>0.384514</td>\n",
       "      <td>0.371114</td>\n",
       "    </tr>\n",
       "    <tr>\n",
       "      <th>2</th>\n",
       "      <td>ROUGE-L</td>\n",
       "      <td>0.595207</td>\n",
       "      <td>0.560466</td>\n",
       "    </tr>\n",
       "    <tr>\n",
       "      <th>3</th>\n",
       "      <td>ROUGE_Score</td>\n",
       "      <td>0.540822</td>\n",
       "      <td>0.510822</td>\n",
       "    </tr>\n",
       "  </tbody>\n",
       "</table>\n",
       "</div>"
      ],
      "text/plain": [
       "        Metric  Average_Attacut  Average_Default\n",
       "0      ROUGE-1         0.642744         0.600885\n",
       "1      ROUGE-2         0.384514         0.371114\n",
       "2      ROUGE-L         0.595207         0.560466\n",
       "3  ROUGE_Score         0.540822         0.510822"
      ]
     },
     "execution_count": 23,
     "metadata": {},
     "output_type": "execute_result"
    }
   ],
   "source": [
    "comparison_df"
   ]
  },
  {
   "cell_type": "code",
   "execution_count": 31,
   "metadata": {},
   "outputs": [
    {
     "data": {
      "text/plain": [
       "Index(['content', 'extractive', 'sum_extractive'], dtype='object')"
      ]
     },
     "execution_count": 31,
     "metadata": {},
     "output_type": "execute_result"
    }
   ],
   "source": [
    "df_copy = df_sum[['content', 'extractive', 'sum_extractive']].copy()\n",
    "df_copy.columns"
   ]
  },
  {
   "cell_type": "markdown",
   "metadata": {},
   "source": [
    "### Extractive"
   ]
  },
  {
   "cell_type": "code",
   "execution_count": 32,
   "metadata": {},
   "outputs": [
    {
     "name": "stderr",
     "output_type": "stream",
     "text": [
      "Calculating ROUGE Scores with attacut: 100%|██████████| 20/20 [00:02<00:00,  9.95it/s]\n",
      "Calculating ROUGE Scores with default: 100%|██████████| 20/20 [00:00<00:00, 21.08it/s]\n"
     ]
    }
   ],
   "source": [
    "df_copy_attacut = df_copy.copy()\n",
    "df_copy_default = df_copy.copy()\n",
    "\n",
    "df_copy_attacut = calculate_update_dataframe_ex(df_copy_attacut, engine='attacut')\n",
    "df_copy_default = calculate_update_dataframe_ex(df_copy_default)  # ใช้ default\n",
    "\n",
    "avg_attacut = df_copy_attacut[[f'ROUGE-1_attacut', f'ROUGE-2_attacut', f'ROUGE-L_attacut', f'ROUGE_Score_attacut']].mean()\n",
    "avg_default = df_copy_default[[f'ROUGE-1_default', f'ROUGE-2_default', f'ROUGE-L_default', f'ROUGE_Score_default']].mean()\n",
    "\n",
    "comparison_df = pd.DataFrame({\n",
    "    'Metric': ['ROUGE-1', 'ROUGE-2', 'ROUGE-L', 'ROUGE_Score'],\n",
    "    'Average_Attacut': avg_attacut.values,\n",
    "    'Average_Default': avg_default.values\n",
    "})"
   ]
  },
  {
   "cell_type": "code",
   "execution_count": 33,
   "metadata": {},
   "outputs": [
    {
     "data": {
      "text/html": [
       "<div>\n",
       "<style scoped>\n",
       "    .dataframe tbody tr th:only-of-type {\n",
       "        vertical-align: middle;\n",
       "    }\n",
       "\n",
       "    .dataframe tbody tr th {\n",
       "        vertical-align: top;\n",
       "    }\n",
       "\n",
       "    .dataframe thead th {\n",
       "        text-align: right;\n",
       "    }\n",
       "</style>\n",
       "<table border=\"1\" class=\"dataframe\">\n",
       "  <thead>\n",
       "    <tr style=\"text-align: right;\">\n",
       "      <th></th>\n",
       "      <th>Metric</th>\n",
       "      <th>Average_Attacut</th>\n",
       "      <th>Average_Default</th>\n",
       "    </tr>\n",
       "  </thead>\n",
       "  <tbody>\n",
       "    <tr>\n",
       "      <th>0</th>\n",
       "      <td>ROUGE-1</td>\n",
       "      <td>0.678338</td>\n",
       "      <td>0.646395</td>\n",
       "    </tr>\n",
       "    <tr>\n",
       "      <th>1</th>\n",
       "      <td>ROUGE-2</td>\n",
       "      <td>0.478567</td>\n",
       "      <td>0.465378</td>\n",
       "    </tr>\n",
       "    <tr>\n",
       "      <th>2</th>\n",
       "      <td>ROUGE-L</td>\n",
       "      <td>0.657657</td>\n",
       "      <td>0.626743</td>\n",
       "    </tr>\n",
       "    <tr>\n",
       "      <th>3</th>\n",
       "      <td>ROUGE_Score</td>\n",
       "      <td>0.604854</td>\n",
       "      <td>0.579505</td>\n",
       "    </tr>\n",
       "  </tbody>\n",
       "</table>\n",
       "</div>"
      ],
      "text/plain": [
       "        Metric  Average_Attacut  Average_Default\n",
       "0      ROUGE-1         0.678338         0.646395\n",
       "1      ROUGE-2         0.478567         0.465378\n",
       "2      ROUGE-L         0.657657         0.626743\n",
       "3  ROUGE_Score         0.604854         0.579505"
      ]
     },
     "execution_count": 33,
     "metadata": {},
     "output_type": "execute_result"
    }
   ],
   "source": [
    "comparison_df"
   ]
  }
 ],
 "metadata": {
  "kernelspec": {
   "display_name": "Python 3",
   "language": "python",
   "name": "python3"
  },
  "language_info": {
   "codemirror_mode": {
    "name": "ipython",
    "version": 3
   },
   "file_extension": ".py",
   "mimetype": "text/x-python",
   "name": "python",
   "nbconvert_exporter": "python",
   "pygments_lexer": "ipython3",
   "version": "3.11.9"
  }
 },
 "nbformat": 4,
 "nbformat_minor": 2
}
