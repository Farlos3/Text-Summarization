{
 "cells": [
  {
   "cell_type": "code",
   "execution_count": 23,
   "metadata": {},
   "outputs": [
    {
     "name": "stdout",
     "output_type": "stream",
     "text": [
      "NAME                   \tID          \tSIZE  \tMODIFIED     \n",
      "llama3:70b             \t786f3184aec0\t39 GB \t46 hours ago\t\n",
      "llama3:8b              \t365c0bd3c000\t4.7 GB\t47 hours ago\t\n",
      "llama3.1:8b            \t75382d0899df\t4.7 GB\t5 days ago  \t\n",
      "llama3:text            \t870a5d02cfaf\t4.7 GB\t5 days ago  \t\n",
      "qwen2:7b               \te0d4e1163c58\t4.4 GB\t5 days ago  \t\n",
      "gemma2:9b              \tff02c3702f32\t5.4 GB\t5 days ago  \t\n",
      "nomic-embed-text:latest\t0a109f422b47\t274 MB\t6 weeks ago \t\n",
      "mistral:latest         \t2ae6f6dd7a3d\t4.1 GB\t6 weeks ago \t\n"
     ]
    }
   ],
   "source": [
    "!ollama list"
   ]
  },
  {
   "cell_type": "code",
   "execution_count": 24,
   "metadata": {},
   "outputs": [],
   "source": [
    "from langchain_community.chat_models import ChatOllama\n",
    "from langchain.prompts import ChatPromptTemplate, SystemMessagePromptTemplate, HumanMessagePromptTemplate"
   ]
  },
  {
   "cell_type": "code",
   "execution_count": 25,
   "metadata": {},
   "outputs": [],
   "source": [
    "local_model = \"gemma2:9b\"\n",
    "llm = ChatOllama(model=local_model)"
   ]
  },
  {
   "cell_type": "code",
   "execution_count": 26,
   "metadata": {},
   "outputs": [
    {
     "data": {
      "text/plain": [
       "ChatOllama(model='gemma2:9b')"
      ]
     },
     "execution_count": 26,
     "metadata": {},
     "output_type": "execute_result"
    }
   ],
   "source": [
    "llm"
   ]
  },
  {
   "cell_type": "markdown",
   "metadata": {},
   "source": [
    "### Dataset"
   ]
  },
  {
   "cell_type": "code",
   "execution_count": 27,
   "metadata": {},
   "outputs": [],
   "source": [
    "import pandas as pd"
   ]
  },
  {
   "cell_type": "code",
   "execution_count": 28,
   "metadata": {},
   "outputs": [
    {
     "data": {
      "text/html": [
       "<div>\n",
       "<style scoped>\n",
       "    .dataframe tbody tr th:only-of-type {\n",
       "        vertical-align: middle;\n",
       "    }\n",
       "\n",
       "    .dataframe tbody tr th {\n",
       "        vertical-align: top;\n",
       "    }\n",
       "\n",
       "    .dataframe thead th {\n",
       "        text-align: right;\n",
       "    }\n",
       "</style>\n",
       "<table border=\"1\" class=\"dataframe\">\n",
       "  <thead>\n",
       "    <tr style=\"text-align: right;\">\n",
       "      <th></th>\n",
       "      <th>body</th>\n",
       "      <th>labels</th>\n",
       "      <th>summary</th>\n",
       "      <th>tags</th>\n",
       "      <th>title</th>\n",
       "      <th>url</th>\n",
       "    </tr>\n",
       "  </thead>\n",
       "  <tbody>\n",
       "    <tr>\n",
       "      <th>0</th>\n",
       "      <td>เมื่อช่วงเช้าของวันที่ 17 ส.ค.59 ร.ต.อ.จักรพล ...</td>\n",
       "      <td>NaN</td>\n",
       "      <td>อุทาหรณ์! โจ๋ชวนเพื่อนมาบ้านตั้งวงกินเหล้าชวนท...</td>\n",
       "      <td>ระเบิดปิงปอง,ระเบิดซ่อนตู้ปลา,ระเบิดใส่แม่,ระเ...</td>\n",
       "      <td>โจ๋ซ่อนระเบิดในตู้ปลา แม่ไม่รู้หยิบมาดู หลานแย...</td>\n",
       "      <td>https://www.thairath.co.th/content/693138</td>\n",
       "    </tr>\n",
       "    <tr>\n",
       "      <th>1</th>\n",
       "      <td>การดำเนินการวางถุงทรายขนาดใหญ่ หรือบิ๊กแบ็ก เพ...</td>\n",
       "      <td>สังคม</td>\n",
       "      <td>การดำเนินการวางถุงทรายขนาดใหญ่คืบหน้าไปแล้วเป...</td>\n",
       "      <td>กระทรวงคมนาคม,กระสอบทราย,น้ำท่วม,บิ๊กแบ็ก,พล.อ...</td>\n",
       "      <td>รมว.คมนาคมเผยวางบิ๊กแบ็กคืบแล้ว 2.5 กม.</td>\n",
       "      <td>https://news.thaipbs.or.th/content/43587</td>\n",
       "    </tr>\n",
       "    <tr>\n",
       "      <th>2</th>\n",
       "      <td>เมื่อวันที่ 1 ส.ค. 61 ผู้สื่อข่าวรายงานว่า จาก...</td>\n",
       "      <td>ข่าว,ทั่วไทย</td>\n",
       "      <td>อำนาจเจริญเข้าใกล้วิกฤติ หลังแม่น้ำโขงล้นตลิ่ง...</td>\n",
       "      <td>อำนาจเจริญ,แม่น้ำโขง,น้ำท่วม,อ.ชานุมาน,น้ำล้นต...</td>\n",
       "      <td>อำนาจเจริญ เตือนคนริมโขงเฝ้าระวังเตรียมอพยพ หล...</td>\n",
       "      <td>https://www.thairath.co.th/news/local/northeas...</td>\n",
       "    </tr>\n",
       "  </tbody>\n",
       "</table>\n",
       "</div>"
      ],
      "text/plain": [
       "                                                body        labels  \\\n",
       "0  เมื่อช่วงเช้าของวันที่ 17 ส.ค.59 ร.ต.อ.จักรพล ...           NaN   \n",
       "1  การดำเนินการวางถุงทรายขนาดใหญ่ หรือบิ๊กแบ็ก เพ...         สังคม   \n",
       "2  เมื่อวันที่ 1 ส.ค. 61 ผู้สื่อข่าวรายงานว่า จาก...  ข่าว,ทั่วไทย   \n",
       "\n",
       "                                             summary  \\\n",
       "0  อุทาหรณ์! โจ๋ชวนเพื่อนมาบ้านตั้งวงกินเหล้าชวนท...   \n",
       "1   การดำเนินการวางถุงทรายขนาดใหญ่คืบหน้าไปแล้วเป...   \n",
       "2  อำนาจเจริญเข้าใกล้วิกฤติ หลังแม่น้ำโขงล้นตลิ่ง...   \n",
       "\n",
       "                                                tags  \\\n",
       "0  ระเบิดปิงปอง,ระเบิดซ่อนตู้ปลา,ระเบิดใส่แม่,ระเ...   \n",
       "1  กระทรวงคมนาคม,กระสอบทราย,น้ำท่วม,บิ๊กแบ็ก,พล.อ...   \n",
       "2  อำนาจเจริญ,แม่น้ำโขง,น้ำท่วม,อ.ชานุมาน,น้ำล้นต...   \n",
       "\n",
       "                                               title  \\\n",
       "0  โจ๋ซ่อนระเบิดในตู้ปลา แม่ไม่รู้หยิบมาดู หลานแย...   \n",
       "1            รมว.คมนาคมเผยวางบิ๊กแบ็กคืบแล้ว 2.5 กม.   \n",
       "2  อำนาจเจริญ เตือนคนริมโขงเฝ้าระวังเตรียมอพยพ หล...   \n",
       "\n",
       "                                                 url  \n",
       "0          https://www.thairath.co.th/content/693138  \n",
       "1           https://news.thaipbs.or.th/content/43587  \n",
       "2  https://www.thairath.co.th/news/local/northeas...  "
      ]
     },
     "execution_count": 28,
     "metadata": {},
     "output_type": "execute_result"
    }
   ],
   "source": [
    "df_trtpbs = pd.read_csv(r'F:\\Super AI SS4\\Level 3 - INTERN\\Dataset\\Thai-PBS\\trtpbs_sample.csv')\n",
    "df_trtpbs.head(3)"
   ]
  },
  {
   "cell_type": "code",
   "execution_count": 29,
   "metadata": {},
   "outputs": [
    {
     "data": {
      "text/plain": [
       "Index(['body', 'labels', 'summary', 'tags', 'title', 'url'], dtype='object')"
      ]
     },
     "execution_count": 29,
     "metadata": {},
     "output_type": "execute_result"
    }
   ],
   "source": [
    "columns = df_trtpbs.columns\n",
    "columns"
   ]
  },
  {
   "cell_type": "code",
   "execution_count": 30,
   "metadata": {},
   "outputs": [
    {
     "data": {
      "text/plain": [
       "body       วานนี้ (23 ธ.ค.2562) ผู้อำนวยการศูนย์ดำรงธรรม ...\n",
       "labels                                             อาชญากรรม\n",
       "summary    กระทรวงมหาดไทยเปิดปฎิบัติการ เพิ่มประสิทธิภาพก...\n",
       "tags                                          ข่าวไทยพีบีเอส\n",
       "title          ศูนย์ดำรงธรรมยุคใหม่ ทำงานเชิงรุกเพื่อประชาชน\n",
       "url                https://news.thaipbs.or.th/content/287377\n",
       "Name: 11, dtype: object"
      ]
     },
     "execution_count": 30,
     "metadata": {},
     "output_type": "execute_result"
    }
   ],
   "source": [
    "df_trtpbs[columns].iloc[11]"
   ]
  },
  {
   "cell_type": "code",
   "execution_count": 31,
   "metadata": {},
   "outputs": [
    {
     "name": "stdout",
     "output_type": "stream",
     "text": [
      "labels : อาชญากรรม\n",
      "body : วานนี้ (23 ธ.ค.2562) ผู้อำนวยการศูนย์ดำรงธรรม พร้อมปลัดอำเภอ ทุกจังหวัด กระทรวงมหาดไทย กว่า 300 คน เข้าร่วมโครงการสัมมนาเชิงปฎิบัติการเพื่อเพิ่มประสิทธิภาพศูนย์ดำรงธรรมในการขับเคลื่อนและช่วยเหลือประชาชนนายพิชัยยา ตุระซอง ผอ.กลุ่มงานอำนวยการ สำนักงานจังหวัดร้อยเอ็ด ช่วยราชการกระทรวงมหาดไทย เปิดเผยว่า ศูนย์ดำรงธรรมคือด่านแรกในการให้บริการและแก้ไขปัญหาของประชาชน การเพิ่มความรู้ด้านเทคนิคกระบวนการไกล่เกลี่ยประนีประนอมข้อพิพาท จึงมีความจำเป็นและสำคัญที่เจ้าหน้าที่ศูนย์ต้องมีความรู้ความสามารถ และนำไปใช้ได้จริง จึงประสานหน่วยงานอัยการ รวมถึงหน่วยงานต่างๆมาให้ความรู้บุคลากรด้านนาย ณรงค์ ศรีระสันต์ อัยการผู้เชี่ยวชาญ สำนักงานคุ้มครองสิทธิและช่วยเหลือทางกฎหมายแก่ประชาชน กล่าวว่าการที่จะยุติปัญหาให้กับประชาชนที่มีข้อขัดแย้งกันนั้น ต้องมีศิลปะในการพูดไกล่เกลี่ย สร้างความเข้าใจ สร้างความเป็นธรรมกับทั้ง 2 ฝ่ายและบางปัญหาต้องเชิญหน่วยงานที่เกี่ยวข้องมาร่วมไกล่เกลี่ย ยกตัวอย่างเช่นกรณีรถบรรทุกของบริษัทแห่งหนึ่งชนคนเสียชีวิต การจะให้คนขับมารับผิดชอบเพียงคนเดียว รายได้คงไม่เพียงพอ ดังนั้นการเชิญ นายจ้าง เชิญประกันภัย เชิญหน่วยงานคปภ. และตำรวจน่าจะเป็นทางออกอย่างหนึ่งที่ทำให้ฝ่ายผู้สูญเสียได้รับเงินเยียวยาดีกว่าต้องไปฟ้องร้องต่อศาลซึ่งต้องใช้ระยะเวลายาวนานนอกจากนี้ศูนย์ดำรงธรรมทั่วประเทศ ยังเปิดเผยถึงการรับเรื่องร้องเรียน ในปี2562 พบว่า การขอความช่วยเหลือด้านต่างๆของประชาชนมีจำนวนมาก ต่อมาคือการร้องเรียนเรื่องปัญหาที่ดิน ซึ่งมีความสลับซับซ้อนช่องทางการรับเรื่องร้องเรียน ของศูนย์ดำรงธรรม มี 6 ช่องทางดังนี้1.มารับบริการด้วยตนเอง2.โทรศัพท์สายด่วน 1567 (โทรฟรี 24 ชม.)3.ส่งจดหมาย มาที่ ตู้ ปณ.101 ปณฝ.มหาดไทย กทม.102004.www.damrongdhan.moi.go.th5 App Spond แจ้งเบาะแสหรือร้องเรียน6.App MOI1567 \n",
      "summary : กระทรวงมหาดไทยเปิดปฎิบัติการ เพิ่มประสิทธิภาพการทำงานของศูนย์ดำรงธรรมทั่วประเทศ เติมเทคนิคความรู้ด้านกฎหมาย แก้ไขปัญหาข้อพิพาทให้ประชาชน กับอัยการสำนักงานคุ้มครองสิทธิและช่วยเหลือทางกฎหมายแก่ประชาชน\n"
     ]
    }
   ],
   "source": [
    "print(f'''labels : {df_trtpbs['labels'][11]}''')\n",
    "print(f'''body : {df_trtpbs['body'][11]}''')\n",
    "print(f'''summary : {df_trtpbs['summary'][11]}''')"
   ]
  },
  {
   "cell_type": "code",
   "execution_count": 32,
   "metadata": {},
   "outputs": [],
   "source": [
    "text = df_trtpbs['body'][11]\n",
    "summary = df_trtpbs['summary'][11]"
   ]
  },
  {
   "cell_type": "code",
   "execution_count": 33,
   "metadata": {},
   "outputs": [],
   "source": [
    "def summarize(text, llm, max_words):\n",
    "    prompt = f\"\"\"Summarize the following text in exactly {max_words} words. Follow these guidelines:\n",
    "                1. Identify and prioritize the most crucial information.\n",
    "                2. Summary captures the key points.\n",
    "                3. Maintain the core message and key points of the original text.\n",
    "                4. Use clear and concise language.\n",
    "                5. Do not include any information not present in the original text.\n",
    "                6. The summary must be in Thai language.\n",
    "\n",
    "            Text to summarize:\n",
    "            {text}\"\"\"\n",
    "  \n",
    "    system_template = f\"\"\"You are an expert summarizer with a keen ability to distill complex information into concise, accurate summaries. Your summaries are always clear, coherent, and precisely match the requested word count. You excel at identifying key points and maintaining the essence of the original text while adhering strictly to length constraints.\"\"\"\n",
    "\n",
    "    system_message_prompt = SystemMessagePromptTemplate.from_template(system_template)\n",
    "    human_message_prompt = HumanMessagePromptTemplate.from_template(prompt)\n",
    "\n",
    "    chat_prompt = ChatPromptTemplate.from_messages([system_message_prompt, human_message_prompt])\n",
    "\n",
    "    # system_message_prompt = PromptTemplate(prompt)\n",
    "    # prompt = ChatPromptTemplate.from_template(template)\n",
    "    messages = chat_prompt.format_messages(text=text)\n",
    "\n",
    "    response = llm(messages)\n",
    "    return response.content"
   ]
  },
  {
   "cell_type": "code",
   "execution_count": 38,
   "metadata": {},
   "outputs": [
    {
     "data": {
      "text/plain": [
       "'วานนี้ (23 ธ.ค.2562) ผู้อำนวยการศูนย์ดำรงธรรม พร้อมปลัดอำเภอ ทุกจังหวัด กระทรวงมหาดไทย กว่า 300 คน เข้าร่วมโครงการสัมมนาเชิงปฎิบัติการเพื่อเพิ่มประสิทธิภาพศูนย์ดำรงธรรมในการขับเคลื่อนและช่วยเหลือประชาชนนายพิชัยยา ตุระซอง ผอ.กลุ่มงานอำนวยการ สำนักงานจังหวัดร้อยเอ็ด ช่วยราชการกระทรวงมหาดไทย เปิดเผยว่า ศูนย์ดำรงธรรมคือด่านแรกในการให้บริการและแก้ไขปัญหาของประชาชน การเพิ่มความรู้ด้านเทคนิคกระบวนการไกล่เกลี่ยประนีประนอมข้อพิพาท จึงมีความจำเป็นและสำคัญที่เจ้าหน้าที่ศูนย์ต้องมีความรู้ความสามารถ และนำไปใช้ได้จริง จึงประสานหน่วยงานอัยการ รวมถึงหน่วยงานต่างๆมาให้ความรู้บุคลากรด้านนาย ณรงค์ ศรีระสันต์ อัยการผู้เชี่ยวชาญ สำนักงานคุ้มครองสิทธิและช่วยเหลือทางกฎหมายแก่ประชาชน กล่าวว่าการที่จะยุติปัญหาให้กับประชาชนที่มีข้อขัดแย้งกันนั้น ต้องมีศิลปะในการพูดไกล่เกลี่ย สร้างความเข้าใจ สร้างความเป็นธรรมกับทั้ง 2 ฝ่ายและบางปัญหาต้องเชิญหน่วยงานที่เกี่ยวข้องมาร่วมไกล่เกลี่ย ยกตัวอย่างเช่นกรณีรถบรรทุกของบริษัทแห่งหนึ่งชนคนเสียชีวิต การจะให้คนขับมารับผิดชอบเพียงคนเดียว รายได้คงไม่เพียงพอ ดังนั้นการเชิญ นายจ้าง เชิญประกันภัย เชิญหน่วยงานคปภ. และตำรวจน่าจะเป็นทางออกอย่างหนึ่งที่ทำให้ฝ่ายผู้สูญเสียได้รับเงินเยียวยาดีกว่าต้องไปฟ้องร้องต่อศาลซึ่งต้องใช้ระยะเวลายาวนานนอกจากนี้ศูนย์ดำรงธรรมทั่วประเทศ ยังเปิดเผยถึงการรับเรื่องร้องเรียน ในปี2562 พบว่า การขอความช่วยเหลือด้านต่างๆของประชาชนมีจำนวนมาก ต่อมาคือการร้องเรียนเรื่องปัญหาที่ดิน ซึ่งมีความสลับซับซ้อนช่องทางการรับเรื่องร้องเรียน ของศูนย์ดำรงธรรม มี 6 ช่องทางดังนี้1.มารับบริการด้วยตนเอง2.โทรศัพท์สายด่วน 1567 (โทรฟรี 24 ชม.)3.ส่งจดหมาย มาที่ ตู้ ปณ.101 ปณฝ.มหาดไทย กทม.102004.www.damrongdhan.moi.go.th5 App Spond แจ้งเบาะแสหรือร้องเรียน6.App MOI1567 '"
      ]
     },
     "execution_count": 38,
     "metadata": {},
     "output_type": "execute_result"
    }
   ],
   "source": [
    "text\n",
    "\n",
    "'''\n",
    "วานนี้ (23 ธ.ค.2562) ผู้อำนวยการศูนย์ดำรงธรรม พร้อมปลัดอำเภอ ทุกจังหวัด กระทรวงมหาดไทย กว่า 300 คน เข้าร่วมโครงการสัมมนาเชิงปฎิบัติการเพื่อเพิ่มประสิทธิภาพศูนย์ดำรงธรรมในการขับเคลื่อนและช่วยเหลือประชาชนนายพิชัยยา ตุระซอง ผอ.กลุ่มงานอำนวยการ สำนักงานจังหวัดร้อยเอ็ด ช่วยราชการกระทรวงมหาดไทย เปิดเผยว่า ศูนย์ดำรงธรรมคือด่านแรกในการให้บริการและแก้ไขปัญหาของประชาชน การเพิ่มความรู้ด้านเทคนิคกระบวนการไกล่เกลี่ยประนีประนอมข้อพิพาท จึงมีความจำเป็นและสำคัญที่เจ้าหน้าที่ศูนย์ต้องมีความรู้ความสามารถ และนำไปใช้ได้จริง จึงประสานหน่วยงานอัยการ รวมถึงหน่วยงานต่างๆมาให้ความรู้บุคลากรด้านนาย ณรงค์ ศรีระสันต์ อัยการผู้เชี่ยวชาญ สำนักงานคุ้มครองสิทธิและช่วยเหลือทางกฎหมายแก่ประชาชน กล่าวว่าการที่จะยุติปัญหาให้กับประชาชนที่มีข้อขัดแย้งกันนั้น ต้องมีศิลปะในการพูดไกล่เกลี่ย สร้างความเข้าใจ สร้างความเป็นธรรมกับทั้ง 2 ฝ่ายและบางปัญหาต้องเชิญหน่วยงานที่เกี่ยวข้องมาร่วมไกล่เกลี่ย ยกตัวอย่างเช่นกรณีรถบรรทุกของบริษัทแห่งหนึ่งชนคนเสียชีวิต การจะให้คนขับมารับผิดชอบเพียงคนเดียว รายได้คงไม่เพียงพอ ดังนั้นการเชิญ นายจ้าง เชิญประกันภัย เชิญหน่วยงานคปภ. และตำรวจน่าจะเป็นทางออกอย่างหนึ่งที่ทำให้ฝ่ายผู้สูญเสียได้รับเงินเยียวยาดีกว่าต้องไปฟ้องร้องต่อศาลซึ่งต้องใช้ระยะเวลายาวนานนอกจากนี้ศูนย์ดำรงธรรมทั่วประเทศ ยังเปิดเผยถึงการรับเรื่องร้องเรียน ในปี2562 พบว่า การขอความช่วยเหลือด้านต่างๆของประชาชนมีจำนวนมาก ต่อมาคือการร้องเรียนเรื่องปัญหาที่ดิน ซึ่งมีความสลับซับซ้อนช่องทางการรับเรื่องร้องเรียน ของศูนย์ดำรงธรรม มี 6 ช่องทางดังนี้1.มารับบริการด้วยตนเอง2.โทรศัพท์สายด่วน 1567 (โทรฟรี 24 ชม.)3.ส่งจดหมาย มาที่ ตู้ ปณ.101 ปณฝ.มหาดไทย กทม.102004.www.damrongdhan.moi.go.th5 App Spond แจ้งเบาะแสหรือร้องเรียน6.App MOI1567 \n",
    "'''"
   ]
  },
  {
   "cell_type": "code",
   "execution_count": 39,
   "metadata": {},
   "outputs": [
    {
     "data": {
      "text/plain": [
       "'กระทรวงมหาดไทยเปิดปฎิบัติการ เพิ่มประสิทธิภาพการทำงานของศูนย์ดำรงธรรมทั่วประเทศ เติมเทคนิคความรู้ด้านกฎหมาย แก้ไขปัญหาข้อพิพาทให้ประชาชน กับอัยการสำนักงานคุ้มครองสิทธิและช่วยเหลือทางกฎหมายแก่ประชาชน'"
      ]
     },
     "execution_count": 39,
     "metadata": {},
     "output_type": "execute_result"
    }
   ],
   "source": [
    "summary\n",
    "\n",
    "'''\n",
    "กระทรวงมหาดไทยเปิดปฎิบัติการ เพิ่มประสิทธิภาพการทำงานของศูนย์ดำรงธรรมทั่วประเทศ เติมเทคนิคความรู้ด้านกฎหมาย แก้ไขปัญหาข้อพิพาทให้ประชาชน กับอัยการสำนักงานคุ้มครองสิทธิและช่วยเหลือทางกฎหมายแก่ประชาชน\n",
    "'''\n",
    "\n",
    "# summary captures the key points"
   ]
  },
  {
   "cell_type": "code",
   "execution_count": 12,
   "metadata": {},
   "outputs": [
    {
     "name": "stderr",
     "output_type": "stream",
     "text": [
      "C:\\Users\\Nitro 5\\AppData\\Local\\Packages\\PythonSoftwareFoundation.Python.3.11_qbz5n2kfra8p0\\LocalCache\\local-packages\\Python311\\site-packages\\langchain_core\\_api\\deprecation.py:139: LangChainDeprecationWarning: The method `BaseChatModel.__call__` was deprecated in langchain-core 0.1.7 and will be removed in 0.3.0. Use invoke instead.\n",
      "  warn_deprecated(\n"
     ]
    },
    {
     "data": {
      "text/plain": [
       "'โครงการสัมมนาเชิงปฎิบัติการศูนย์ดำรงธรรมเพื่อเพิ่มประสิทธิภาพในการช่วยเหลือประชาชน มีผู้เข้าร่วมกว่า 300 คนจากทุกจังหวัด  \\n\\nการพัฒนาทักษะไกล่เกลี่ยและกระบวนการยุติข้อพิพาทเป็นจุดสำคัญที่เจ้าหน้าที่ต้องได้รับการฝึกอบรม. ศูนย์ดำรงธรรมรับเรื่องร้องเรียนมากที่สุดในด้านขอความช่วยเหลือ และปัญหาที่ดิน. ประชาชนสามารถแจ้งเบาะแสหรือร้องเรียนผ่าน 6 ช่องทาง.\\n\\n\\n'"
      ]
     },
     "execution_count": 12,
     "metadata": {},
     "output_type": "execute_result"
    }
   ],
   "source": [
    "summarized_text = summarize(text, llm, max_words=50)\n",
    "summarized_text"
   ]
  },
  {
   "cell_type": "code",
   "execution_count": 46,
   "metadata": {},
   "outputs": [
    {
     "data": {
      "text/plain": [
       "'ศูนย์ดำรงธรรมทั่วประเทศมีบทบาทสำคัญในการแก้ไขปัญหาและช่วยเหลือประชาชน  การสัมมนาเชิงปฏิบัติการเพื่อเพิ่มประสิทธิภาพศูนย์ดำรงธรรมเน้นย้ำความจำเป็นของเจ้าหน้าที่ในการพัฒนาทักษะด้านไกล่เกลี่ยเพื่อยุติข้อพิพาทอย่างรวดเร็ว.   นอกจากนี้ ศูนย์ดำรงธรรมเปิด 6 ช่องทางรับเรื่องร้องเรียน ซึ่งประชาชนสามารถเลือกช่องทางที่สะดวก รวมทั้งบริการโทรศัพท์สายด่วน 1567 (ฟรีตลอด 24 ชั่วโมง)'"
      ]
     },
     "execution_count": 46,
     "metadata": {},
     "output_type": "execute_result"
    }
   ],
   "source": [
    "# colon_index = summarized_text.find(':')\n",
    "# summarized_text = summarized_text[colon_index+1:].strip()\n",
    "\n",
    "# summarized_text"
   ]
  },
  {
   "cell_type": "code",
   "execution_count": 47,
   "metadata": {},
   "outputs": [
    {
     "data": {
      "text/plain": [
       "['ศูนย์ดำรงธรรมทั่วประเทศมีบทบาทสำคัญในการแก้ไขปัญหาและช่วยเหลือประชาชน การสัมมนาเชิงปฏิบัติการเพื่อเพิ่มประสิทธิภาพศูนย์ดำรงธรรมเน้นย้ำความจำเป็นของเจ้าหน้าที่ในการพัฒนาทักษะด้านไกล่เกลี่ยเพื่อยุติข้อพิพาทอย่างรวดเร็ว.  นอกจากนี้ ศูนย์ดำรงธรรมเปิด 6 ช่องทางรับเรื่องร้องเรียน ซึ่งประชาชนสามารถเลือกช่องทางที่สะดวก รวมทั้งบริการโทรศัพท์สายด่วน 1567 (ฟรีตลอด 24 ชั่วโมง)']"
      ]
     },
     "execution_count": 47,
     "metadata": {},
     "output_type": "execute_result"
    }
   ],
   "source": [
    "# summarized_text = summarized_text.replace(\"\\n\", \" \").replace(\"  \", \" \")\n",
    "# summary = summary.replace(\"\\n\", \" \").replace(\"  \", \" \")\n",
    "\n",
    "# references = [f'{summary}']\n",
    "# candidates = [f'{summarized_text}']\n",
    "\n",
    "# candidates"
   ]
  },
  {
   "cell_type": "code",
   "execution_count": 40,
   "metadata": {},
   "outputs": [
    {
     "data": {
      "text/plain": [
       "'กระทรวงมหาดไทยเปิดปฎิบัติการ เพิ่มประสิทธิภาพการทำงานของศูนย์ดำรงธรรมทั่วประเทศ เติมเทคนิคความรู้ด้านกฎหมาย แก้ไขปัญหาข้อพิพาทให้ประชาชน กับอัยการสำนักงานคุ้มครองสิทธิและช่วยเหลือทางกฎหมายแก่ประชาชน'"
      ]
     },
     "execution_count": 40,
     "metadata": {},
     "output_type": "execute_result"
    }
   ],
   "source": [
    "summary"
   ]
  },
  {
   "cell_type": "markdown",
   "metadata": {},
   "source": [
    "### Summarize"
   ]
  },
  {
   "cell_type": "code",
   "execution_count": 34,
   "metadata": {},
   "outputs": [
    {
     "name": "stderr",
     "output_type": "stream",
     "text": [
      "  0%|          | 0/20 [00:00<?, ?it/s]C:\\Users\\Nitro 5\\AppData\\Local\\Packages\\PythonSoftwareFoundation.Python.3.11_qbz5n2kfra8p0\\LocalCache\\local-packages\\Python311\\site-packages\\langchain_core\\_api\\deprecation.py:139: LangChainDeprecationWarning: The method `BaseChatModel.__call__` was deprecated in langchain-core 0.1.7 and will be removed in 0.3.0. Use invoke instead.\n",
      "  warn_deprecated(\n",
      "100%|██████████| 20/20 [32:24<00:00, 97.24s/it] \n"
     ]
    }
   ],
   "source": [
    "from tqdm import tqdm\n",
    "\n",
    "summarized = []\n",
    "\n",
    "for i in tqdm(df_trtpbs['body']):\n",
    "    summarized_text = summarize(i, llm, max_words=50)\n",
    "    summarized.append(summarized_text)\n",
    "\n",
    "df_trtpbs['summarized_text'] = summarized"
   ]
  },
  {
   "cell_type": "code",
   "execution_count": 35,
   "metadata": {},
   "outputs": [
    {
     "data": {
      "text/plain": [
       "0    เมื่อวันที่ 17 ส.ค.59 เกิดเหตุระเบิดภายในบ้านท...\n",
       "1    โครงการวางถุงทรายขนาดใหญ่ \"บิ๊กแบ็ก\" กั้นน้ำ 2...\n",
       "2    ระดับน้ำแม่น้ำโขงใน อ.ชานุมาน จ.อำนาจเจริญ ขึ้...\n",
       "3    พันธมิตรฝ่ายค้าน 7 พรรคมุ่งหยุดยั้งการสืบทอดอำ...\n",
       "4    รัฐธรรมนูญกำหนดให้คณะกรรมการสรรหาผู้แทนวุฒิสภา...\n",
       "Name: summarized_text, dtype: object"
      ]
     },
     "execution_count": 35,
     "metadata": {},
     "output_type": "execute_result"
    }
   ],
   "source": [
    "df_trtpbs['summarized_text'].head()"
   ]
  },
  {
   "cell_type": "code",
   "execution_count": 36,
   "metadata": {},
   "outputs": [
    {
     "data": {
      "text/html": [
       "<div>\n",
       "<style scoped>\n",
       "    .dataframe tbody tr th:only-of-type {\n",
       "        vertical-align: middle;\n",
       "    }\n",
       "\n",
       "    .dataframe tbody tr th {\n",
       "        vertical-align: top;\n",
       "    }\n",
       "\n",
       "    .dataframe thead th {\n",
       "        text-align: right;\n",
       "    }\n",
       "</style>\n",
       "<table border=\"1\" class=\"dataframe\">\n",
       "  <thead>\n",
       "    <tr style=\"text-align: right;\">\n",
       "      <th></th>\n",
       "      <th>body</th>\n",
       "      <th>summary</th>\n",
       "      <th>summarized_text</th>\n",
       "    </tr>\n",
       "  </thead>\n",
       "  <tbody>\n",
       "    <tr>\n",
       "      <th>0</th>\n",
       "      <td>เมื่อช่วงเช้าของวันที่ 17 ส.ค.59 ร.ต.อ.จักรพล ...</td>\n",
       "      <td>อุทาหรณ์! โจ๋ชวนเพื่อนมาบ้านตั้งวงกินเหล้าชวนท...</td>\n",
       "      <td>เมื่อวันที่ 17 ส.ค.59 เกิดเหตุระเบิดภายในบ้านท...</td>\n",
       "    </tr>\n",
       "    <tr>\n",
       "      <th>1</th>\n",
       "      <td>การดำเนินการวางถุงทรายขนาดใหญ่ หรือบิ๊กแบ็ก เพ...</td>\n",
       "      <td>การดำเนินการวางถุงทรายขนาดใหญ่คืบหน้าไปแล้วเป...</td>\n",
       "      <td>โครงการวางถุงทรายขนาดใหญ่ \"บิ๊กแบ็ก\" กั้นน้ำ 2...</td>\n",
       "    </tr>\n",
       "    <tr>\n",
       "      <th>2</th>\n",
       "      <td>เมื่อวันที่ 1 ส.ค. 61 ผู้สื่อข่าวรายงานว่า จาก...</td>\n",
       "      <td>อำนาจเจริญเข้าใกล้วิกฤติ หลังแม่น้ำโขงล้นตลิ่ง...</td>\n",
       "      <td>ระดับน้ำแม่น้ำโขงใน อ.ชานุมาน จ.อำนาจเจริญ ขึ้...</td>\n",
       "    </tr>\n",
       "    <tr>\n",
       "      <th>3</th>\n",
       "      <td>ถามชาวบ้านหรือยังว่ามีความสุขกับพวกคุณมั้ย???เ...</td>\n",
       "      <td>นั่งดูพรรคร่วมรัฐบาลฟัดกันชามข้าวกระจาย ยื้อแย...</td>\n",
       "      <td>พันธมิตรฝ่ายค้าน 7 พรรคมุ่งหยุดยั้งการสืบทอดอำ...</td>\n",
       "    </tr>\n",
       "    <tr>\n",
       "      <th>4</th>\n",
       "      <td>ไม่จำเป็นต้องเลือกตั้งเสมอไป และคราวนี้นายกรั...</td>\n",
       "      <td>ที่มาของ ส.ว.กลายเป็นประเด็นอีกครั้ง เมื่อนายก...</td>\n",
       "      <td>รัฐธรรมนูญกำหนดให้คณะกรรมการสรรหาผู้แทนวุฒิสภา...</td>\n",
       "    </tr>\n",
       "  </tbody>\n",
       "</table>\n",
       "</div>"
      ],
      "text/plain": [
       "                                                body  \\\n",
       "0  เมื่อช่วงเช้าของวันที่ 17 ส.ค.59 ร.ต.อ.จักรพล ...   \n",
       "1  การดำเนินการวางถุงทรายขนาดใหญ่ หรือบิ๊กแบ็ก เพ...   \n",
       "2  เมื่อวันที่ 1 ส.ค. 61 ผู้สื่อข่าวรายงานว่า จาก...   \n",
       "3  ถามชาวบ้านหรือยังว่ามีความสุขกับพวกคุณมั้ย???เ...   \n",
       "4   ไม่จำเป็นต้องเลือกตั้งเสมอไป และคราวนี้นายกรั...   \n",
       "\n",
       "                                             summary  \\\n",
       "0  อุทาหรณ์! โจ๋ชวนเพื่อนมาบ้านตั้งวงกินเหล้าชวนท...   \n",
       "1   การดำเนินการวางถุงทรายขนาดใหญ่คืบหน้าไปแล้วเป...   \n",
       "2  อำนาจเจริญเข้าใกล้วิกฤติ หลังแม่น้ำโขงล้นตลิ่ง...   \n",
       "3  นั่งดูพรรคร่วมรัฐบาลฟัดกันชามข้าวกระจาย ยื้อแย...   \n",
       "4  ที่มาของ ส.ว.กลายเป็นประเด็นอีกครั้ง เมื่อนายก...   \n",
       "\n",
       "                                     summarized_text  \n",
       "0  เมื่อวันที่ 17 ส.ค.59 เกิดเหตุระเบิดภายในบ้านท...  \n",
       "1  โครงการวางถุงทรายขนาดใหญ่ \"บิ๊กแบ็ก\" กั้นน้ำ 2...  \n",
       "2  ระดับน้ำแม่น้ำโขงใน อ.ชานุมาน จ.อำนาจเจริญ ขึ้...  \n",
       "3  พันธมิตรฝ่ายค้าน 7 พรรคมุ่งหยุดยั้งการสืบทอดอำ...  \n",
       "4  รัฐธรรมนูญกำหนดให้คณะกรรมการสรรหาผู้แทนวุฒิสภา...  "
      ]
     },
     "execution_count": 36,
     "metadata": {},
     "output_type": "execute_result"
    }
   ],
   "source": [
    "df = df_trtpbs[['body', 'summary', 'summarized_text']]\n",
    "df.head()"
   ]
  },
  {
   "cell_type": "markdown",
   "metadata": {},
   "source": [
    "### Evaluate"
   ]
  },
  {
   "cell_type": "markdown",
   "metadata": {},
   "source": [
    "##### BERT Score"
   ]
  },
  {
   "cell_type": "code",
   "execution_count": 37,
   "metadata": {},
   "outputs": [],
   "source": [
    "from bert_score import score"
   ]
  },
  {
   "cell_type": "code",
   "execution_count": 38,
   "metadata": {},
   "outputs": [],
   "source": [
    "df = df_trtpbs[['body', 'summary', 'summarized_text']]\n",
    "\n",
    "precisions = []\n",
    "recalls = []\n",
    "f1_scores = []"
   ]
  },
  {
   "cell_type": "code",
   "execution_count": 39,
   "metadata": {},
   "outputs": [
    {
     "name": "stderr",
     "output_type": "stream",
     "text": [
      "0it [00:00, ?it/s]"
     ]
    },
    {
     "data": {
      "application/vnd.jupyter.widget-view+json": {
       "model_id": "d32f8e8897484be1aea5d5003d508060",
       "version_major": 2,
       "version_minor": 0
      },
      "text/plain": [
       "tokenizer_config.json:   0%|          | 0.00/49.0 [00:00<?, ?B/s]"
      ]
     },
     "metadata": {},
     "output_type": "display_data"
    },
    {
     "name": "stderr",
     "output_type": "stream",
     "text": [
      "C:\\Users\\Nitro 5\\AppData\\Local\\Packages\\PythonSoftwareFoundation.Python.3.11_qbz5n2kfra8p0\\LocalCache\\local-packages\\Python311\\site-packages\\huggingface_hub\\file_download.py:157: UserWarning: `huggingface_hub` cache-system uses symlinks by default to efficiently store duplicated files but your machine does not support them in C:\\Users\\Nitro 5\\.cache\\huggingface\\hub\\models--bert-base-multilingual-cased. Caching files will still work but in a degraded version that might require more space on your disk. This warning can be disabled by setting the `HF_HUB_DISABLE_SYMLINKS_WARNING` environment variable. For more details, see https://huggingface.co/docs/huggingface_hub/how-to-cache#limitations.\n",
      "To support symlinks on Windows, you either need to activate Developer Mode or to run Python as an administrator. In order to see activate developer mode, see this article: https://docs.microsoft.com/en-us/windows/apps/get-started/enable-your-device-for-development\n",
      "  warnings.warn(message)\n"
     ]
    },
    {
     "data": {
      "application/vnd.jupyter.widget-view+json": {
       "model_id": "258a76efa2bc4479a3c80a2fd018ad79",
       "version_major": 2,
       "version_minor": 0
      },
      "text/plain": [
       "config.json:   0%|          | 0.00/625 [00:00<?, ?B/s]"
      ]
     },
     "metadata": {},
     "output_type": "display_data"
    },
    {
     "data": {
      "application/vnd.jupyter.widget-view+json": {
       "model_id": "b792488568ad455cae9bdd06f38a1a1d",
       "version_major": 2,
       "version_minor": 0
      },
      "text/plain": [
       "vocab.txt:   0%|          | 0.00/996k [00:00<?, ?B/s]"
      ]
     },
     "metadata": {},
     "output_type": "display_data"
    },
    {
     "data": {
      "application/vnd.jupyter.widget-view+json": {
       "model_id": "8c630cb9e438457b9bb1cd0e924ac4fd",
       "version_major": 2,
       "version_minor": 0
      },
      "text/plain": [
       "tokenizer.json:   0%|          | 0.00/1.96M [00:00<?, ?B/s]"
      ]
     },
     "metadata": {},
     "output_type": "display_data"
    },
    {
     "data": {
      "application/vnd.jupyter.widget-view+json": {
       "model_id": "e09cd0d7774943e7a3999b8638a743f4",
       "version_major": 2,
       "version_minor": 0
      },
      "text/plain": [
       "model.safetensors:   0%|          | 0.00/714M [00:00<?, ?B/s]"
      ]
     },
     "metadata": {},
     "output_type": "display_data"
    },
    {
     "name": "stderr",
     "output_type": "stream",
     "text": [
      "20it [01:10,  3.52s/it]\n",
      "C:\\Users\\Nitro 5\\AppData\\Local\\Temp\\ipykernel_26796\\2672629306.py:8: SettingWithCopyWarning: \n",
      "A value is trying to be set on a copy of a slice from a DataFrame.\n",
      "Try using .loc[row_indexer,col_indexer] = value instead\n",
      "\n",
      "See the caveats in the documentation: https://pandas.pydata.org/pandas-docs/stable/user_guide/indexing.html#returning-a-view-versus-a-copy\n",
      "  df['Precision'] = precisions\n",
      "C:\\Users\\Nitro 5\\AppData\\Local\\Temp\\ipykernel_26796\\2672629306.py:9: SettingWithCopyWarning: \n",
      "A value is trying to be set on a copy of a slice from a DataFrame.\n",
      "Try using .loc[row_indexer,col_indexer] = value instead\n",
      "\n",
      "See the caveats in the documentation: https://pandas.pydata.org/pandas-docs/stable/user_guide/indexing.html#returning-a-view-versus-a-copy\n",
      "  df['Recall'] = recalls\n",
      "C:\\Users\\Nitro 5\\AppData\\Local\\Temp\\ipykernel_26796\\2672629306.py:10: SettingWithCopyWarning: \n",
      "A value is trying to be set on a copy of a slice from a DataFrame.\n",
      "Try using .loc[row_indexer,col_indexer] = value instead\n",
      "\n",
      "See the caveats in the documentation: https://pandas.pydata.org/pandas-docs/stable/user_guide/indexing.html#returning-a-view-versus-a-copy\n",
      "  df['F1'] = f1_scores\n"
     ]
    }
   ],
   "source": [
    "for idx, row in tqdm(df.iterrows()):\n",
    "    P, R, F1 = score([row['summarized_text']], [row['summary']], lang=\"th\", verbose=False)\n",
    "    \n",
    "    precisions.append(P.item())\n",
    "    recalls.append(R.item())\n",
    "    f1_scores.append(F1.item())\n",
    "\n",
    "df['Precision'] = precisions\n",
    "df['Recall'] = recalls\n",
    "df['F1'] = f1_scores"
   ]
  },
  {
   "cell_type": "code",
   "execution_count": 40,
   "metadata": {},
   "outputs": [
    {
     "data": {
      "text/html": [
       "<div>\n",
       "<style scoped>\n",
       "    .dataframe tbody tr th:only-of-type {\n",
       "        vertical-align: middle;\n",
       "    }\n",
       "\n",
       "    .dataframe tbody tr th {\n",
       "        vertical-align: top;\n",
       "    }\n",
       "\n",
       "    .dataframe thead th {\n",
       "        text-align: right;\n",
       "    }\n",
       "</style>\n",
       "<table border=\"1\" class=\"dataframe\">\n",
       "  <thead>\n",
       "    <tr style=\"text-align: right;\">\n",
       "      <th></th>\n",
       "      <th>body</th>\n",
       "      <th>summary</th>\n",
       "      <th>summarized_text</th>\n",
       "      <th>Precision</th>\n",
       "      <th>Recall</th>\n",
       "      <th>F1</th>\n",
       "    </tr>\n",
       "  </thead>\n",
       "  <tbody>\n",
       "    <tr>\n",
       "      <th>0</th>\n",
       "      <td>เมื่อช่วงเช้าของวันที่ 17 ส.ค.59 ร.ต.อ.จักรพล ...</td>\n",
       "      <td>อุทาหรณ์! โจ๋ชวนเพื่อนมาบ้านตั้งวงกินเหล้าชวนท...</td>\n",
       "      <td>เมื่อวันที่ 17 ส.ค.59 เกิดเหตุระเบิดภายในบ้านท...</td>\n",
       "      <td>0.674192</td>\n",
       "      <td>0.728896</td>\n",
       "      <td>0.700477</td>\n",
       "    </tr>\n",
       "    <tr>\n",
       "      <th>1</th>\n",
       "      <td>การดำเนินการวางถุงทรายขนาดใหญ่ หรือบิ๊กแบ็ก เพ...</td>\n",
       "      <td>การดำเนินการวางถุงทรายขนาดใหญ่คืบหน้าไปแล้วเป...</td>\n",
       "      <td>โครงการวางถุงทรายขนาดใหญ่ \"บิ๊กแบ็ก\" กั้นน้ำ 2...</td>\n",
       "      <td>0.724121</td>\n",
       "      <td>0.775434</td>\n",
       "      <td>0.748899</td>\n",
       "    </tr>\n",
       "    <tr>\n",
       "      <th>2</th>\n",
       "      <td>เมื่อวันที่ 1 ส.ค. 61 ผู้สื่อข่าวรายงานว่า จาก...</td>\n",
       "      <td>อำนาจเจริญเข้าใกล้วิกฤติ หลังแม่น้ำโขงล้นตลิ่ง...</td>\n",
       "      <td>ระดับน้ำแม่น้ำโขงใน อ.ชานุมาน จ.อำนาจเจริญ ขึ้...</td>\n",
       "      <td>0.737655</td>\n",
       "      <td>0.775741</td>\n",
       "      <td>0.756219</td>\n",
       "    </tr>\n",
       "    <tr>\n",
       "      <th>3</th>\n",
       "      <td>ถามชาวบ้านหรือยังว่ามีความสุขกับพวกคุณมั้ย???เ...</td>\n",
       "      <td>นั่งดูพรรคร่วมรัฐบาลฟัดกันชามข้าวกระจาย ยื้อแย...</td>\n",
       "      <td>พันธมิตรฝ่ายค้าน 7 พรรคมุ่งหยุดยั้งการสืบทอดอำ...</td>\n",
       "      <td>0.695868</td>\n",
       "      <td>0.738558</td>\n",
       "      <td>0.716578</td>\n",
       "    </tr>\n",
       "    <tr>\n",
       "      <th>4</th>\n",
       "      <td>ไม่จำเป็นต้องเลือกตั้งเสมอไป และคราวนี้นายกรั...</td>\n",
       "      <td>ที่มาของ ส.ว.กลายเป็นประเด็นอีกครั้ง เมื่อนายก...</td>\n",
       "      <td>รัฐธรรมนูญกำหนดให้คณะกรรมการสรรหาผู้แทนวุฒิสภา...</td>\n",
       "      <td>0.717456</td>\n",
       "      <td>0.768886</td>\n",
       "      <td>0.742281</td>\n",
       "    </tr>\n",
       "    <tr>\n",
       "      <th>5</th>\n",
       "      <td>เมื่อวานนี้ (28 พ.ย.2559) ผู้สื่อข่าวรายงานว่า...</td>\n",
       "      <td>ในพื้นที่ ต.ภูซาง อ.ภูซาง จ.พะเยา มีนวัตกรรมบ้...</td>\n",
       "      <td>ในจังหวัดพะเยา เกิดนวัตกรรมบ้านหมุน 360 องศา ห...</td>\n",
       "      <td>0.721543</td>\n",
       "      <td>0.788891</td>\n",
       "      <td>0.753716</td>\n",
       "    </tr>\n",
       "    <tr>\n",
       "      <th>6</th>\n",
       "      <td>เมื่อวันที่ 14 ก.ค.62 นายธนกร วังบุญคงชนะ รองโ...</td>\n",
       "      <td>ธนกร ลั่น รมต.พร้อมแจงฝ่ายค้าน ไม่หวั่น พท.ขู่...</td>\n",
       "      <td>รัฐบาลมีความพร้อมแถลงนโยบายวันที่ 25 กรกฎาคมนี...</td>\n",
       "      <td>0.746612</td>\n",
       "      <td>0.804439</td>\n",
       "      <td>0.774447</td>\n",
       "    </tr>\n",
       "    <tr>\n",
       "      <th>7</th>\n",
       "      <td>พล.ต.ท.วิทยา ประยงค์พันธุ์ ผู้ช่วย ผบ.ตร. เปิด...</td>\n",
       "      <td>จากการประชุมหารือสัปดาห์ที่ผ่านมา ได้ข้อสรุปเร...</td>\n",
       "      <td>พล.ต.ท.วิทยา ประยงค์พันธุ์ เปิดเผยอัตราค่ายกรถ...</td>\n",
       "      <td>0.663710</td>\n",
       "      <td>0.739784</td>\n",
       "      <td>0.699685</td>\n",
       "    </tr>\n",
       "    <tr>\n",
       "      <th>8</th>\n",
       "      <td>เป็นประจำทุกปีในช่วงเทศกาลวันแม่ 12 สิงหาคม ที...</td>\n",
       "      <td>เป็นประจำทุกปีในช่วงเทศกาลวันแม่ 12 สิงหาคม ที...</td>\n",
       "      <td>This is a heartwarming and touching story abou...</td>\n",
       "      <td>0.538415</td>\n",
       "      <td>0.546042</td>\n",
       "      <td>0.542202</td>\n",
       "    </tr>\n",
       "    <tr>\n",
       "      <th>9</th>\n",
       "      <td>ด้วยเหตุผลยอดฮิต ไม่มีเวลา และขอมุ่งเรื่องงานเ...</td>\n",
       "      <td>ก่อนหน้านี้ออกตัวแรงว่าขายขนมจีบ ม่านฟ้า–อรปภั...</td>\n",
       "      <td>เป๊กกล่าวถึงสถานะกับม่านฟ้าในละคร \"มงกุฎริษยา\"...</td>\n",
       "      <td>0.723229</td>\n",
       "      <td>0.725608</td>\n",
       "      <td>0.724416</td>\n",
       "    </tr>\n",
       "    <tr>\n",
       "      <th>10</th>\n",
       "      <td>เป็นอีกคดีทางการเมืองที่ประชาชนให้ความสนใจและต...</td>\n",
       "      <td>ดูกันชัดๆ กับเส้นทางนโยบายประชานิยม รับจำนำข้า...</td>\n",
       "      <td>บทความนี้สรุปเหตุการณ์และสถานการณ์เกี่ยวกับโคร...</td>\n",
       "      <td>0.657064</td>\n",
       "      <td>0.722752</td>\n",
       "      <td>0.688344</td>\n",
       "    </tr>\n",
       "    <tr>\n",
       "      <th>11</th>\n",
       "      <td>วานนี้ (23 ธ.ค.2562) ผู้อำนวยการศูนย์ดำรงธรรม ...</td>\n",
       "      <td>กระทรวงมหาดไทยเปิดปฎิบัติการ เพิ่มประสิทธิภาพก...</td>\n",
       "      <td>โครงการสัมมนาเชิงปฏิบัติการเพื่อเพิ่มประสิทธิภ...</td>\n",
       "      <td>0.730605</td>\n",
       "      <td>0.781266</td>\n",
       "      <td>0.755087</td>\n",
       "    </tr>\n",
       "    <tr>\n",
       "      <th>12</th>\n",
       "      <td>หน้ากากย่านอโศก วันที่ 23 ม.ค. คุณหญิงสุดารัตน...</td>\n",
       "      <td>คุณหญิงสุดารัตน์ เกยุราพันธุ์ ประธานยุทธศาสตร์...</td>\n",
       "      <td>คุณหญิงสุดารัตน์ และคณะทำงานพรรคเพื่อไทย แจกหน...</td>\n",
       "      <td>0.726838</td>\n",
       "      <td>0.765431</td>\n",
       "      <td>0.745636</td>\n",
       "    </tr>\n",
       "    <tr>\n",
       "      <th>13</th>\n",
       "      <td>นายปรีดา เชื้อผู้ดี ที่ปรึกษาจุฬาราชมนตรี เชิญ...</td>\n",
       "      <td>ที่ปรึกษาจุฬาราชมนตรี เชิญดินพระราชทานมาประกอ...</td>\n",
       "      <td>นายหวังเต๊ะ ศิลปินแห่งชาติสาขาเพลงพื้นบ้าน มรณ...</td>\n",
       "      <td>0.724287</td>\n",
       "      <td>0.707565</td>\n",
       "      <td>0.715828</td>\n",
       "    </tr>\n",
       "    <tr>\n",
       "      <th>14</th>\n",
       "      <td>ว่า โครงการสู่มาตุภูมิ เป็นโครงการที่ พม.โดยศ...</td>\n",
       "      <td>นายอภิชาติ อภิชาตบุตร รองปลัดกระทรวงการพัฒนาสั...</td>\n",
       "      <td>โครงการสู่มาตุภูมิ ครั้งที่ 9 จัดโดยศูนย์อำนวย...</td>\n",
       "      <td>0.619561</td>\n",
       "      <td>0.693667</td>\n",
       "      <td>0.654523</td>\n",
       "    </tr>\n",
       "    <tr>\n",
       "      <th>15</th>\n",
       "      <td>จ.ร้อยเอ็ด พบไหหินโบราณในลำห้วยทราย ประหลาดใจ...</td>\n",
       "      <td>ชาวบ้านโพธิ์ชัย จ.ร้อยเอ็ด พบไหหินโบราณในลำห้ว...</td>\n",
       "      <td>ในวันที่ 2 ก.ย.62 นายทนาวัน โพธินาม ชาวบ้านขาม...</td>\n",
       "      <td>0.755647</td>\n",
       "      <td>0.827910</td>\n",
       "      <td>0.790129</td>\n",
       "    </tr>\n",
       "    <tr>\n",
       "      <th>16</th>\n",
       "      <td>นำทีมผู้กำกับแถวหน้า ปรัชญา ปิ่นแก้ว ก้องเกีย...</td>\n",
       "      <td>นนทรีย์ นิมิบุตร นำทีมผู้กำกับแถวหน้า ปรัชญา ป...</td>\n",
       "      <td>\"ของขวัญ\" ภาพยนตร์สั้น 4 ตอน กำกับโดย ปรัชญา ป...</td>\n",
       "      <td>0.649878</td>\n",
       "      <td>0.716589</td>\n",
       "      <td>0.681605</td>\n",
       "    </tr>\n",
       "    <tr>\n",
       "      <th>17</th>\n",
       "      <td>ทีมเทนนิสไทยประเดิมผลงานวันแรกด้วยการตุน 3 เหร...</td>\n",
       "      <td>ทีมเทนนิสไทยประเดิมผลงานวันแรกด้วยการตุน 3 เหร...</td>\n",
       "      <td>ทีมเทนนิสไทยคว้า 3 เหรียญทองแดงจากหญิงเดี่ยว อ...</td>\n",
       "      <td>0.737824</td>\n",
       "      <td>0.782198</td>\n",
       "      <td>0.759363</td>\n",
       "    </tr>\n",
       "    <tr>\n",
       "      <th>18</th>\n",
       "      <td>เห็นช่วงนี้ไฮโซหนุ่ม ป๊อก ภัสสรกรณ์ จิราธิวัฒน...</td>\n",
       "      <td>มาร์กี้ ราศรี เผยป๊อก ภัสสรกรณ์ ต้องทำกายภาพบำ...</td>\n",
       "      <td>ป๊อก ภัสสรกรณ์ แย่งเอ็นสะโพกฉีก ต้องทำกายภาพบำ...</td>\n",
       "      <td>0.821238</td>\n",
       "      <td>0.789012</td>\n",
       "      <td>0.804803</td>\n",
       "    </tr>\n",
       "    <tr>\n",
       "      <th>19</th>\n",
       "      <td>ตำรวจจังหวัดปัตตานีตั้งด่านตรวจเข้มบนเส้นทางเข...</td>\n",
       "      <td>เจ้าหน้าที่ฝ่ายความมั่นคงในจังหวัดปัตตานี เพิ...</td>\n",
       "      <td>ตำรวจปัตตานีตั้งด่านตรวจเข้มเนื่องจากพบว่าคนร้...</td>\n",
       "      <td>0.715049</td>\n",
       "      <td>0.740162</td>\n",
       "      <td>0.727389</td>\n",
       "    </tr>\n",
       "  </tbody>\n",
       "</table>\n",
       "</div>"
      ],
      "text/plain": [
       "                                                 body  \\\n",
       "0   เมื่อช่วงเช้าของวันที่ 17 ส.ค.59 ร.ต.อ.จักรพล ...   \n",
       "1   การดำเนินการวางถุงทรายขนาดใหญ่ หรือบิ๊กแบ็ก เพ...   \n",
       "2   เมื่อวันที่ 1 ส.ค. 61 ผู้สื่อข่าวรายงานว่า จาก...   \n",
       "3   ถามชาวบ้านหรือยังว่ามีความสุขกับพวกคุณมั้ย???เ...   \n",
       "4    ไม่จำเป็นต้องเลือกตั้งเสมอไป และคราวนี้นายกรั...   \n",
       "5   เมื่อวานนี้ (28 พ.ย.2559) ผู้สื่อข่าวรายงานว่า...   \n",
       "6   เมื่อวันที่ 14 ก.ค.62 นายธนกร วังบุญคงชนะ รองโ...   \n",
       "7   พล.ต.ท.วิทยา ประยงค์พันธุ์ ผู้ช่วย ผบ.ตร. เปิด...   \n",
       "8   เป็นประจำทุกปีในช่วงเทศกาลวันแม่ 12 สิงหาคม ที...   \n",
       "9   ด้วยเหตุผลยอดฮิต ไม่มีเวลา และขอมุ่งเรื่องงานเ...   \n",
       "10  เป็นอีกคดีทางการเมืองที่ประชาชนให้ความสนใจและต...   \n",
       "11  วานนี้ (23 ธ.ค.2562) ผู้อำนวยการศูนย์ดำรงธรรม ...   \n",
       "12  หน้ากากย่านอโศก วันที่ 23 ม.ค. คุณหญิงสุดารัตน...   \n",
       "13  นายปรีดา เชื้อผู้ดี ที่ปรึกษาจุฬาราชมนตรี เชิญ...   \n",
       "14   ว่า โครงการสู่มาตุภูมิ เป็นโครงการที่ พม.โดยศ...   \n",
       "15   จ.ร้อยเอ็ด พบไหหินโบราณในลำห้วยทราย ประหลาดใจ...   \n",
       "16   นำทีมผู้กำกับแถวหน้า ปรัชญา ปิ่นแก้ว ก้องเกีย...   \n",
       "17  ทีมเทนนิสไทยประเดิมผลงานวันแรกด้วยการตุน 3 เหร...   \n",
       "18  เห็นช่วงนี้ไฮโซหนุ่ม ป๊อก ภัสสรกรณ์ จิราธิวัฒน...   \n",
       "19  ตำรวจจังหวัดปัตตานีตั้งด่านตรวจเข้มบนเส้นทางเข...   \n",
       "\n",
       "                                              summary  \\\n",
       "0   อุทาหรณ์! โจ๋ชวนเพื่อนมาบ้านตั้งวงกินเหล้าชวนท...   \n",
       "1    การดำเนินการวางถุงทรายขนาดใหญ่คืบหน้าไปแล้วเป...   \n",
       "2   อำนาจเจริญเข้าใกล้วิกฤติ หลังแม่น้ำโขงล้นตลิ่ง...   \n",
       "3   นั่งดูพรรคร่วมรัฐบาลฟัดกันชามข้าวกระจาย ยื้อแย...   \n",
       "4   ที่มาของ ส.ว.กลายเป็นประเด็นอีกครั้ง เมื่อนายก...   \n",
       "5   ในพื้นที่ ต.ภูซาง อ.ภูซาง จ.พะเยา มีนวัตกรรมบ้...   \n",
       "6   ธนกร ลั่น รมต.พร้อมแจงฝ่ายค้าน ไม่หวั่น พท.ขู่...   \n",
       "7   จากการประชุมหารือสัปดาห์ที่ผ่านมา ได้ข้อสรุปเร...   \n",
       "8   เป็นประจำทุกปีในช่วงเทศกาลวันแม่ 12 สิงหาคม ที...   \n",
       "9   ก่อนหน้านี้ออกตัวแรงว่าขายขนมจีบ ม่านฟ้า–อรปภั...   \n",
       "10  ดูกันชัดๆ กับเส้นทางนโยบายประชานิยม รับจำนำข้า...   \n",
       "11  กระทรวงมหาดไทยเปิดปฎิบัติการ เพิ่มประสิทธิภาพก...   \n",
       "12  คุณหญิงสุดารัตน์ เกยุราพันธุ์ ประธานยุทธศาสตร์...   \n",
       "13   ที่ปรึกษาจุฬาราชมนตรี เชิญดินพระราชทานมาประกอ...   \n",
       "14  นายอภิชาติ อภิชาตบุตร รองปลัดกระทรวงการพัฒนาสั...   \n",
       "15  ชาวบ้านโพธิ์ชัย จ.ร้อยเอ็ด พบไหหินโบราณในลำห้ว...   \n",
       "16  นนทรีย์ นิมิบุตร นำทีมผู้กำกับแถวหน้า ปรัชญา ป...   \n",
       "17  ทีมเทนนิสไทยประเดิมผลงานวันแรกด้วยการตุน 3 เหร...   \n",
       "18  มาร์กี้ ราศรี เผยป๊อก ภัสสรกรณ์ ต้องทำกายภาพบำ...   \n",
       "19   เจ้าหน้าที่ฝ่ายความมั่นคงในจังหวัดปัตตานี เพิ...   \n",
       "\n",
       "                                      summarized_text  Precision    Recall  \\\n",
       "0   เมื่อวันที่ 17 ส.ค.59 เกิดเหตุระเบิดภายในบ้านท...   0.674192  0.728896   \n",
       "1   โครงการวางถุงทรายขนาดใหญ่ \"บิ๊กแบ็ก\" กั้นน้ำ 2...   0.724121  0.775434   \n",
       "2   ระดับน้ำแม่น้ำโขงใน อ.ชานุมาน จ.อำนาจเจริญ ขึ้...   0.737655  0.775741   \n",
       "3   พันธมิตรฝ่ายค้าน 7 พรรคมุ่งหยุดยั้งการสืบทอดอำ...   0.695868  0.738558   \n",
       "4   รัฐธรรมนูญกำหนดให้คณะกรรมการสรรหาผู้แทนวุฒิสภา...   0.717456  0.768886   \n",
       "5   ในจังหวัดพะเยา เกิดนวัตกรรมบ้านหมุน 360 องศา ห...   0.721543  0.788891   \n",
       "6   รัฐบาลมีความพร้อมแถลงนโยบายวันที่ 25 กรกฎาคมนี...   0.746612  0.804439   \n",
       "7   พล.ต.ท.วิทยา ประยงค์พันธุ์ เปิดเผยอัตราค่ายกรถ...   0.663710  0.739784   \n",
       "8   This is a heartwarming and touching story abou...   0.538415  0.546042   \n",
       "9   เป๊กกล่าวถึงสถานะกับม่านฟ้าในละคร \"มงกุฎริษยา\"...   0.723229  0.725608   \n",
       "10  บทความนี้สรุปเหตุการณ์และสถานการณ์เกี่ยวกับโคร...   0.657064  0.722752   \n",
       "11  โครงการสัมมนาเชิงปฏิบัติการเพื่อเพิ่มประสิทธิภ...   0.730605  0.781266   \n",
       "12  คุณหญิงสุดารัตน์ และคณะทำงานพรรคเพื่อไทย แจกหน...   0.726838  0.765431   \n",
       "13  นายหวังเต๊ะ ศิลปินแห่งชาติสาขาเพลงพื้นบ้าน มรณ...   0.724287  0.707565   \n",
       "14  โครงการสู่มาตุภูมิ ครั้งที่ 9 จัดโดยศูนย์อำนวย...   0.619561  0.693667   \n",
       "15  ในวันที่ 2 ก.ย.62 นายทนาวัน โพธินาม ชาวบ้านขาม...   0.755647  0.827910   \n",
       "16  \"ของขวัญ\" ภาพยนตร์สั้น 4 ตอน กำกับโดย ปรัชญา ป...   0.649878  0.716589   \n",
       "17  ทีมเทนนิสไทยคว้า 3 เหรียญทองแดงจากหญิงเดี่ยว อ...   0.737824  0.782198   \n",
       "18  ป๊อก ภัสสรกรณ์ แย่งเอ็นสะโพกฉีก ต้องทำกายภาพบำ...   0.821238  0.789012   \n",
       "19  ตำรวจปัตตานีตั้งด่านตรวจเข้มเนื่องจากพบว่าคนร้...   0.715049  0.740162   \n",
       "\n",
       "          F1  \n",
       "0   0.700477  \n",
       "1   0.748899  \n",
       "2   0.756219  \n",
       "3   0.716578  \n",
       "4   0.742281  \n",
       "5   0.753716  \n",
       "6   0.774447  \n",
       "7   0.699685  \n",
       "8   0.542202  \n",
       "9   0.724416  \n",
       "10  0.688344  \n",
       "11  0.755087  \n",
       "12  0.745636  \n",
       "13  0.715828  \n",
       "14  0.654523  \n",
       "15  0.790129  \n",
       "16  0.681605  \n",
       "17  0.759363  \n",
       "18  0.804803  \n",
       "19  0.727389  "
      ]
     },
     "execution_count": 40,
     "metadata": {},
     "output_type": "execute_result"
    }
   ],
   "source": [
    "df"
   ]
  },
  {
   "cell_type": "code",
   "execution_count": 25,
   "metadata": {},
   "outputs": [],
   "source": [
    "df.to_csv(r'F:\\Super AI SS4\\Level 3 - INTERN\\Jupyter Notebook\\Try-prompt\\Evaluate\\gemma2-evaluate.csv')"
   ]
  },
  {
   "cell_type": "code",
   "execution_count": 88,
   "metadata": {},
   "outputs": [],
   "source": [
    "import pandas as pd\n",
    "\n",
    "df = pd.read_csv(r'F:\\Super AI SS4\\Level 3 - INTERN\\Jupyter Notebook\\Try-prompt\\Evaluate\\gemma2-evaluate.csv')"
   ]
  },
  {
   "cell_type": "code",
   "execution_count": 90,
   "metadata": {},
   "outputs": [],
   "source": [
    "precisions = []\n",
    "recalls = []\n",
    "f1_scores = []"
   ]
  },
  {
   "cell_type": "code",
   "execution_count": 91,
   "metadata": {},
   "outputs": [
    {
     "name": "stderr",
     "output_type": "stream",
     "text": [
      "20it [00:26,  1.35s/it]\n"
     ]
    }
   ],
   "source": [
    "for idx, row in tqdm(df.iterrows()):\n",
    "    P, R, F1 = score([row['summarized_text']], [row['summary']], lang=\"th\", verbose=False)\n",
    "    \n",
    "    precisions.append(P.item())\n",
    "    recalls.append(R.item())\n",
    "    f1_scores.append(F1.item())\n",
    "\n",
    "df['Precision'] = precisions\n",
    "df['Recall'] = recalls\n",
    "df['F1'] = f1_scores"
   ]
  },
  {
   "cell_type": "code",
   "execution_count": 92,
   "metadata": {},
   "outputs": [
    {
     "name": "stdout",
     "output_type": "stream",
     "text": [
      "Average Precision: 0.7116520434617997\n",
      "Average Recall: 0.7525382369756699\n",
      "Average F1: 0.7313262432813644\n"
     ]
    }
   ],
   "source": [
    "print(f\"Average Precision: {sum(precisions)/len(precisions)}\")\n",
    "print(f\"Average Recall: {sum(recalls)/len(recalls)}\")\n",
    "print(f\"Average F1: {sum(f1_scores)/len(f1_scores)}\")"
   ]
  }
 ],
 "metadata": {
  "kernelspec": {
   "display_name": "Python 3",
   "language": "python",
   "name": "python3"
  },
  "language_info": {
   "codemirror_mode": {
    "name": "ipython",
    "version": 3
   },
   "file_extension": ".py",
   "mimetype": "text/x-python",
   "name": "python",
   "nbconvert_exporter": "python",
   "pygments_lexer": "ipython3",
   "version": "3.11.9"
  }
 },
 "nbformat": 4,
 "nbformat_minor": 2
}
